{
 "cells": [
  {
   "cell_type": "markdown",
   "id": "82d2cca1",
   "metadata": {},
   "source": [
    "# <i><u> BASIC TERMINOLOGIES :</i></u>\n",
    "### STRING :\n",
    "A string is a sequence of characters. For example, \"hello\" is a string containing a sequence of characters 'h' , 'e' , 'l' , 'l' , & 'o'.\n",
    "* A string is a sequence of one or more characters (letters, numbers, symbols) that can be either a constant or a variable. Made up of Unicode, strings are immutable sequences, meaning they are unchanging.\n",
    "### CLASS :\n",
    "A class is a user-defined data type that contains both the data itself and the methods that may be used to manipulate it.Classes serve as a template to create objects.\n",
    "* A class describes the contents of the objects that belong to it: it describes an aggregate of data fields (called instance variables), and defines the operations (called methods).\n",
    "##### SYNTAX : Syntax: Object Definition. obj = ClassName() print(obj.atrr) \n",
    "### OBJECT :\n",
    " Objects are the instances of a particular class. \n",
    "* EXAMPLE :Suppose Bike is a class then we can create objects like bike1 , bike2 , etc from the class.\n",
    "### METHOD :\n",
    " Methods are functions that are associated with an object and can manipulate its data or perform actions on it.\n",
    "* In a Python class, we can define three types of methods:\n",
    "1. Instance methods.\n",
    "2. Class methods.\n",
    "3. Static methods.\n",
    "### PARAMETER :\n",
    "* A parameter is the variable listed inside the parentheses in the function definition.\n",
    "* Parameter should be within the parentheses of the function.\n",
    "### ASCII :\n",
    "* ASCII stands for American Standard Code for Information Interchange. It is a numeric value given to different characters and symbols, for computers to store and manipulate. For example, the ASCII value of the letter 'A' is 65.\n",
    "### DIRECTORY :\n",
    "* The dir() function returns all properties and methods of the specified object, without the values.\n",
    "* This function will return all the properties and methods, even built-in properties which are default for all object."
   ]
  },
  {
   "cell_type": "markdown",
   "id": "202e089b",
   "metadata": {},
   "source": [
    "# <u><i> STRING METHODS: </i></u> "
   ]
  },
  {
   "cell_type": "code",
   "execution_count": 7,
   "id": "cea53189",
   "metadata": {},
   "outputs": [
    {
     "data": {
      "text/plain": [
       "['__add__',\n",
       " '__class__',\n",
       " '__contains__',\n",
       " '__delattr__',\n",
       " '__dir__',\n",
       " '__doc__',\n",
       " '__eq__',\n",
       " '__format__',\n",
       " '__ge__',\n",
       " '__getattribute__',\n",
       " '__getitem__',\n",
       " '__getnewargs__',\n",
       " '__getstate__',\n",
       " '__gt__',\n",
       " '__hash__',\n",
       " '__init__',\n",
       " '__init_subclass__',\n",
       " '__iter__',\n",
       " '__le__',\n",
       " '__len__',\n",
       " '__lt__',\n",
       " '__mod__',\n",
       " '__mul__',\n",
       " '__ne__',\n",
       " '__new__',\n",
       " '__reduce__',\n",
       " '__reduce_ex__',\n",
       " '__repr__',\n",
       " '__rmod__',\n",
       " '__rmul__',\n",
       " '__setattr__',\n",
       " '__sizeof__',\n",
       " '__str__',\n",
       " '__subclasshook__',\n",
       " 'capitalize',\n",
       " 'casefold',\n",
       " 'center',\n",
       " 'count',\n",
       " 'encode',\n",
       " 'endswith',\n",
       " 'expandtabs',\n",
       " 'find',\n",
       " 'format',\n",
       " 'format_map',\n",
       " 'index',\n",
       " 'isalnum',\n",
       " 'isalpha',\n",
       " 'isascii',\n",
       " 'isdecimal',\n",
       " 'isdigit',\n",
       " 'isidentifier',\n",
       " 'islower',\n",
       " 'isnumeric',\n",
       " 'isprintable',\n",
       " 'isspace',\n",
       " 'istitle',\n",
       " 'isupper',\n",
       " 'join',\n",
       " 'ljust',\n",
       " 'lower',\n",
       " 'lstrip',\n",
       " 'maketrans',\n",
       " 'partition',\n",
       " 'removeprefix',\n",
       " 'removesuffix',\n",
       " 'replace',\n",
       " 'rfind',\n",
       " 'rindex',\n",
       " 'rjust',\n",
       " 'rpartition',\n",
       " 'rsplit',\n",
       " 'rstrip',\n",
       " 'split',\n",
       " 'splitlines',\n",
       " 'startswith',\n",
       " 'strip',\n",
       " 'swapcase',\n",
       " 'title',\n",
       " 'translate',\n",
       " 'upper',\n",
       " 'zfill']"
      ]
     },
     "execution_count": 7,
     "metadata": {},
     "output_type": "execute_result"
    }
   ],
   "source": [
    "a = \"string\" \n",
    "dir(a) # ALL THE METHODS PRESENT IN CLASS"
   ]
  },
  {
   "cell_type": "markdown",
   "id": "f5efffbc",
   "metadata": {},
   "source": [
    "### 1. ord(): [order]\n",
    "* The ord() function returns the number representing the unicode code of a specified character.\n",
    "* ord(ch) returns the byte value for a character - \"a\" is 65, \"b\" is 66, etc.  "
   ]
  },
  {
   "cell_type": "code",
   "execution_count": 3,
   "id": "57dacd95",
   "metadata": {},
   "outputs": [
    {
     "data": {
      "text/plain": [
       "65"
      ]
     },
     "execution_count": 3,
     "metadata": {},
     "output_type": "execute_result"
    }
   ],
   "source": [
    "#EXAMPLE :\n",
    "ord('A') # HERE NO. REPRESENTING THE UNICODE OF THE CHARACTER 'A' IS GIVEN AS OUTPUT"
   ]
  },
  {
   "cell_type": "code",
   "execution_count": 6,
   "id": "3b81e55a",
   "metadata": {},
   "outputs": [
    {
     "data": {
      "text/plain": [
       "97"
      ]
     },
     "execution_count": 6,
     "metadata": {},
     "output_type": "execute_result"
    }
   ],
   "source": [
    "ord('a') # SIMILARLY HERE NO. REPRESENTING THE UNICODE OF THE CHARACTER 'a' IS GIVEN AS OUTPUT"
   ]
  },
  {
   "cell_type": "markdown",
   "id": "5dbac085",
   "metadata": {},
   "source": [
    "## 2. lower() : [lowercase]"
   ]
  },
  {
   "cell_type": "code",
   "execution_count": 9,
   "id": "f41116cb",
   "metadata": {},
   "outputs": [
    {
     "data": {
      "text/plain": [
       "'you must be the change you wish to see in the world.'"
      ]
     },
     "execution_count": 9,
     "metadata": {},
     "output_type": "execute_result"
    }
   ],
   "source": [
    "str1 = \"You must be the change you wish to see in the world.\"\n",
    "str1.lower() #COMPLETE STRING IS DISPLAYED IN LOWERCASE LETTERS"
   ]
  },
  {
   "cell_type": "markdown",
   "id": "a91e665f",
   "metadata": {},
   "source": [
    "## 3. upper() :[uppercase]\n",
    "*  The upper() method returns the uppercased string from the given string."
   ]
  },
  {
   "cell_type": "code",
   "execution_count": 12,
   "id": "8ef8c360",
   "metadata": {},
   "outputs": [
    {
     "data": {
      "text/plain": [
       "'YOU MUST BE THE CHANGE YOU WISH TO SEE IN THE WORLD.'"
      ]
     },
     "execution_count": 12,
     "metadata": {},
     "output_type": "execute_result"
    }
   ],
   "source": [
    "str1.upper() #COMPLETE STRING IS DISPLAYED IN UPPERCASE LETTERS"
   ]
  },
  {
   "cell_type": "markdown",
   "id": "f15184f0",
   "metadata": {},
   "source": [
    "## 4. capitalize() :\n",
    "* 1st alphabet of the string is capital."
   ]
  },
  {
   "cell_type": "code",
   "execution_count": 15,
   "id": "14e055df",
   "metadata": {},
   "outputs": [
    {
     "data": {
      "text/plain": [
       "'You must be the change you wish to see in the world.'"
      ]
     },
     "execution_count": 15,
     "metadata": {},
     "output_type": "execute_result"
    }
   ],
   "source": [
    "str1.capitalize() #1ST ALPHABET IN THE COMPLETE STRING IS CAPITAL\""
   ]
  },
  {
   "cell_type": "markdown",
   "id": "682e4c50",
   "metadata": {},
   "source": [
    "## 5. title() :\n",
    "* This method changes first alphabet of every word will convert into capital letter"
   ]
  },
  {
   "cell_type": "code",
   "execution_count": 17,
   "id": "0a669fa1",
   "metadata": {},
   "outputs": [
    {
     "data": {
      "text/plain": [
       "'You Must Be The Change You Wish To See In The World.'"
      ]
     },
     "execution_count": 17,
     "metadata": {},
     "output_type": "execute_result"
    }
   ],
   "source": [
    "str1.title() #FIRST ALPHABET OF EVERY WORD IN THE STRING IS CAPITAL"
   ]
  },
  {
   "cell_type": "markdown",
   "id": "a342ed2c",
   "metadata": {},
   "source": [
    "## 6. swapcase() :\n",
    "* This method changes capital letters to small letters and small letters to capital letters"
   ]
  },
  {
   "cell_type": "code",
   "execution_count": 21,
   "id": "2722a3ba",
   "metadata": {},
   "outputs": [
    {
     "data": {
      "text/plain": [
       "'hARE kRISHNA'"
      ]
     },
     "execution_count": 21,
     "metadata": {},
     "output_type": "execute_result"
    }
   ],
   "source": [
    "swap = \"Hare Krishna\"\n",
    "swap.swapcase() #IT PRINTS LOWERCASE TO UPPERCASE LETTERS, UPPERCASE TO LOWERCASE LETTERS"
   ]
  },
  {
   "cell_type": "markdown",
   "id": "f2c8aaeb",
   "metadata": {},
   "source": [
    "## 7. casefold() :\n",
    "\n",
    "* This method changes string lower case to more lower case , special characters like Germen character (ß) is already in lower case so, the lower method doesn’t make the conversion.\n",
    "* The casefold() method will convert ß to its equivalent character ss\n"
   ]
  },
  {
   "cell_type": "code",
   "execution_count": 22,
   "id": "3d5fc270",
   "metadata": {},
   "outputs": [
    {
     "data": {
      "text/plain": [
       "'german ss is ss'"
      ]
     },
     "execution_count": 22,
     "metadata": {},
     "output_type": "execute_result"
    }
   ],
   "source": [
    "B = 'German ss is ß'\n",
    "B.casefold()"
   ]
  },
  {
   "cell_type": "markdown",
   "id": "ada2c440",
   "metadata": {},
   "source": [
    "## 8. help():\n",
    "*  If no argument is given, the interactive help system starts on the interpreter console. If you want to get out of help console, type quit.\n",
    "* We can also get the help documentation directly from the python console by passing a parameter to help() function.\n",
    "* Syntax : help(object)\n"
   ]
  },
  {
   "cell_type": "code",
   "execution_count": 25,
   "id": "c13321e9",
   "metadata": {},
   "outputs": [
    {
     "name": "stdout",
     "output_type": "stream",
     "text": [
      "Help on class object in module builtins:\n",
      "\n",
      "class object\n",
      " |  The base class of the class hierarchy.\n",
      " |  \n",
      " |  When called, it accepts no arguments and returns a new featureless\n",
      " |  instance that has no instance attributes and cannot be given any.\n",
      " |  \n",
      " |  Built-in subclasses:\n",
      " |      anext_awaitable\n",
      " |      async_generator\n",
      " |      async_generator_asend\n",
      " |      async_generator_athrow\n",
      " |      ... and 93 other subclasses\n",
      " |  \n",
      " |  Methods defined here:\n",
      " |  \n",
      " |  __delattr__(self, name, /)\n",
      " |      Implement delattr(self, name).\n",
      " |  \n",
      " |  __dir__(self, /)\n",
      " |      Default dir() implementation.\n",
      " |  \n",
      " |  __eq__(self, value, /)\n",
      " |      Return self==value.\n",
      " |  \n",
      " |  __format__(self, format_spec, /)\n",
      " |      Default object formatter.\n",
      " |  \n",
      " |  __ge__(self, value, /)\n",
      " |      Return self>=value.\n",
      " |  \n",
      " |  __getattribute__(self, name, /)\n",
      " |      Return getattr(self, name).\n",
      " |  \n",
      " |  __getstate__(self, /)\n",
      " |      Helper for pickle.\n",
      " |  \n",
      " |  __gt__(self, value, /)\n",
      " |      Return self>value.\n",
      " |  \n",
      " |  __hash__(self, /)\n",
      " |      Return hash(self).\n",
      " |  \n",
      " |  __init__(self, /, *args, **kwargs)\n",
      " |      Initialize self.  See help(type(self)) for accurate signature.\n",
      " |  \n",
      " |  __le__(self, value, /)\n",
      " |      Return self<=value.\n",
      " |  \n",
      " |  __lt__(self, value, /)\n",
      " |      Return self<value.\n",
      " |  \n",
      " |  __ne__(self, value, /)\n",
      " |      Return self!=value.\n",
      " |  \n",
      " |  __reduce__(self, /)\n",
      " |      Helper for pickle.\n",
      " |  \n",
      " |  __reduce_ex__(self, protocol, /)\n",
      " |      Helper for pickle.\n",
      " |  \n",
      " |  __repr__(self, /)\n",
      " |      Return repr(self).\n",
      " |  \n",
      " |  __setattr__(self, name, value, /)\n",
      " |      Implement setattr(self, name, value).\n",
      " |  \n",
      " |  __sizeof__(self, /)\n",
      " |      Size of object in memory, in bytes.\n",
      " |  \n",
      " |  __str__(self, /)\n",
      " |      Return str(self).\n",
      " |  \n",
      " |  ----------------------------------------------------------------------\n",
      " |  Class methods defined here:\n",
      " |  \n",
      " |  __init_subclass__(...) from builtins.type\n",
      " |      This method is called when a class is subclassed.\n",
      " |      \n",
      " |      The default implementation does nothing. It may be\n",
      " |      overridden to extend subclasses.\n",
      " |  \n",
      " |  __subclasshook__(...) from builtins.type\n",
      " |      Abstract classes can override this to customize issubclass().\n",
      " |      \n",
      " |      This is invoked early on by abc.ABCMeta.__subclasscheck__().\n",
      " |      It should return True, False or NotImplemented.  If it returns\n",
      " |      NotImplemented, the normal algorithm is used.  Otherwise, it\n",
      " |      overrides the normal algorithm (and the outcome is cached).\n",
      " |  \n",
      " |  ----------------------------------------------------------------------\n",
      " |  Static methods defined here:\n",
      " |  \n",
      " |  __new__(*args, **kwargs) from builtins.type\n",
      " |      Create and return a new object.  See help(type) for accurate signature.\n",
      " |  \n",
      " |  ----------------------------------------------------------------------\n",
      " |  Data and other attributes defined here:\n",
      " |  \n",
      " |  __class__ = <class 'type'>\n",
      " |      type(object) -> the object's type\n",
      " |      type(name, bases, dict, **kwds) -> a new type\n",
      "\n"
     ]
    }
   ],
   "source": [
    "help(object) # IT INVOKES BUILT IN HELP SYSTEM"
   ]
  },
  {
   "cell_type": "markdown",
   "id": "bc51e780",
   "metadata": {},
   "source": [
    "## 9. find(): \n",
    "* find() method returns the lowest index or first occurrence of the substring if it is found in a given string.\n",
    "    If it is not found, then it returns -1.\n",
    "\n",
    "* Syntax: str_obj.find(sub, start, end)\n",
    "##### Parameters:\n",
    "\n",
    "* sub: Substring that needs to be searched in the given string.\n",
    "* start (optional): Starting position where the substring needs to be checked within the string.\n",
    "* end (optional): End position is the index of the last value for the specified range. It is excluded while checking.\n",
    "\n",
    "\n"
   ]
  },
  {
   "cell_type": "code",
   "execution_count": 26,
   "id": "7b866e4f",
   "metadata": {},
   "outputs": [
    {
     "name": "stdout",
     "output_type": "stream",
     "text": [
      "You must be the change you wish to see in the world.\n"
     ]
    }
   ],
   "source": [
    "print(str1)"
   ]
  },
  {
   "cell_type": "code",
   "execution_count": 27,
   "id": "84cf8683",
   "metadata": {},
   "outputs": [
    {
     "data": {
      "text/plain": [
       "10"
      ]
     },
     "execution_count": 27,
     "metadata": {},
     "output_type": "execute_result"
    }
   ],
   "source": [
    "str1.find('e') # THE INDEX VALUE OF 1ST SUBSTRING \"e\" IS 10."
   ]
  },
  {
   "cell_type": "code",
   "execution_count": 30,
   "id": "730b6d74",
   "metadata": {},
   "outputs": [
    {
     "data": {
      "text/plain": [
       "5"
      ]
     },
     "execution_count": 30,
     "metadata": {},
     "output_type": "execute_result"
    }
   ],
   "source": [
    "str1.find('u',3) #THE INDEX VALUE OF 1ST SUBSTRING \"u\" IS 5.\n",
    "#SINCE START POSITION IS \"3\" IT IS GOING TO CHECK SUBSTRING FROM START POSITION."
   ]
  },
  {
   "cell_type": "code",
   "execution_count": 37,
   "id": "f41fa994",
   "metadata": {},
   "outputs": [
    {
     "data": {
      "text/plain": [
       "24"
      ]
     },
     "execution_count": 37,
     "metadata": {},
     "output_type": "execute_result"
    }
   ],
   "source": [
    "str1.find('o',20,50) #THE INDEX VALUE OF 1ST SUBSTRING \"o\" IS 24. SINCE START IS 20, THE SUBSTRING \"o\" IS CHECKED FROM START STRING"
   ]
  },
  {
   "cell_type": "code",
   "execution_count": 39,
   "id": "693df5d3",
   "metadata": {},
   "outputs": [
    {
     "name": "stdout",
     "output_type": "stream",
     "text": [
      "Help on built-in function find:\n",
      "\n",
      "find(...) method of builtins.str instance\n",
      "    S.find(sub[, start[, end]]) -> int\n",
      "    \n",
      "    Return the lowest index in S where substring sub is found,\n",
      "    such that sub is contained within S[start:end].  Optional\n",
      "    arguments start and end are interpreted as in slice notation.\n",
      "    \n",
      "    Return -1 on failure.\n",
      "\n"
     ]
    }
   ],
   "source": [
    "help(str1.find)"
   ]
  },
  {
   "cell_type": "markdown",
   "id": "3fd9d79e",
   "metadata": {},
   "source": [
    "## 10. rfind():\n",
    "\n",
    "* rfind() method returns the rightmost index of the substring if found in the given string.\n",
    "* If not found then it returns -1.\n",
    "\n",
    "* Syntax: str.rfind(sub, start, end)\n",
    "#### Parameters:\n",
    "\n",
    "* sub: It’s the substring that needs to be searched in the given string.\n",
    "* start: Starting position where the sub needs to be checked within the string.\n",
    "* end: Ending position where suffix needs to be checked within the string.\n"
   ]
  },
  {
   "cell_type": "code",
   "execution_count": 40,
   "id": "ef23a751",
   "metadata": {},
   "outputs": [
    {
     "name": "stdout",
     "output_type": "stream",
     "text": [
      "Help on built-in function rfind:\n",
      "\n",
      "rfind(...) method of builtins.str instance\n",
      "    S.rfind(sub[, start[, end]]) -> int\n",
      "    \n",
      "    Return the highest index in S where substring sub is found,\n",
      "    such that sub is contained within S[start:end].  Optional\n",
      "    arguments start and end are interpreted as in slice notation.\n",
      "    \n",
      "    Return -1 on failure.\n",
      "\n"
     ]
    }
   ],
   "source": [
    "help(str1.rfind)"
   ]
  },
  {
   "cell_type": "code",
   "execution_count": 41,
   "id": "366ebe60",
   "metadata": {},
   "outputs": [
    {
     "data": {
      "text/plain": [
       "'gajularamaram'"
      ]
     },
     "execution_count": 41,
     "metadata": {},
     "output_type": "execute_result"
    }
   ],
   "source": [
    "name = \"gajularamaram\"\n",
    "name"
   ]
  },
  {
   "cell_type": "code",
   "execution_count": 42,
   "id": "5e9da01a",
   "metadata": {},
   "outputs": [
    {
     "data": {
      "text/plain": [
       "11"
      ]
     },
     "execution_count": 42,
     "metadata": {},
     "output_type": "execute_result"
    }
   ],
   "source": [
    "name.rfind('a') # IT CHECKS FROM BACK AND FINDS THE SUBSTRING POSITION &GIVES POSITVE INDEXING FROM( L -> R)"
   ]
  },
  {
   "cell_type": "code",
   "execution_count": 43,
   "id": "90d4a266",
   "metadata": {},
   "outputs": [
    {
     "data": {
      "text/plain": [
       "9"
      ]
     },
     "execution_count": 43,
     "metadata": {},
     "output_type": "execute_result"
    }
   ],
   "source": [
    "name.rfind('a',2,11)"
   ]
  },
  {
   "cell_type": "markdown",
   "id": "0b596a18",
   "metadata": {},
   "source": [
    "<img src =\"attachment:rfind%20.jpg\"\n",
    "     align =\"left\"\n",
    "     width =\"500\">"
   ]
  },
  {
   "cell_type": "markdown",
   "id": "f7e411c9",
   "metadata": {},
   "source": [
    "<img src =\"rfind .jpg\"\n",
    "     align = \"left\"\n",
    "     width = \"500\"\n",
    "     height = \"200\">"
   ]
  },
  {
   "cell_type": "code",
   "execution_count": null,
   "id": "78893827",
   "metadata": {},
   "outputs": [],
   "source": []
  },
  {
   "cell_type": "code",
   "execution_count": null,
   "id": "a03662e9",
   "metadata": {},
   "outputs": [],
   "source": []
  },
  {
   "cell_type": "code",
   "execution_count": null,
   "id": "81150ed9",
   "metadata": {},
   "outputs": [],
   "source": []
  },
  {
   "cell_type": "code",
   "execution_count": null,
   "id": "436736aa",
   "metadata": {},
   "outputs": [],
   "source": []
  },
  {
   "cell_type": "code",
   "execution_count": null,
   "id": "43349760",
   "metadata": {},
   "outputs": [],
   "source": []
  },
  {
   "cell_type": "code",
   "execution_count": null,
   "id": "2eb88fc7",
   "metadata": {},
   "outputs": [],
   "source": []
  },
  {
   "cell_type": "code",
   "execution_count": null,
   "id": "ac639e11",
   "metadata": {},
   "outputs": [],
   "source": []
  },
  {
   "cell_type": "code",
   "execution_count": null,
   "id": "cf5b7a41",
   "metadata": {},
   "outputs": [],
   "source": []
  },
  {
   "cell_type": "code",
   "execution_count": null,
   "id": "597aef34",
   "metadata": {},
   "outputs": [],
   "source": []
  },
  {
   "cell_type": "code",
   "execution_count": null,
   "id": "96c53681",
   "metadata": {},
   "outputs": [],
   "source": []
  },
  {
   "cell_type": "code",
   "execution_count": null,
   "id": "3ff70866",
   "metadata": {},
   "outputs": [],
   "source": []
  },
  {
   "cell_type": "code",
   "execution_count": null,
   "id": "804cfc46",
   "metadata": {},
   "outputs": [],
   "source": []
  }
 ],
 "metadata": {
  "kernelspec": {
   "display_name": "Python 3 (ipykernel)",
   "language": "python",
   "name": "python3"
  },
  "language_info": {
   "codemirror_mode": {
    "name": "ipython",
    "version": 3
   },
   "file_extension": ".py",
   "mimetype": "text/x-python",
   "name": "python",
   "nbconvert_exporter": "python",
   "pygments_lexer": "ipython3",
   "version": "3.11.5"
  }
 },
 "nbformat": 4,
 "nbformat_minor": 5
}
