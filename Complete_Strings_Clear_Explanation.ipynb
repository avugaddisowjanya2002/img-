{
 "cells": [
  {
   "cell_type": "markdown",
   "id": "9b4a8654",
   "metadata": {},
   "source": [
    "# <i><u>TERMINOLOGIES :</i></u>\n",
    "### STRING :\n",
    "A string is a sequence of characters. For example, \"hello\" is a string containing a sequence of characters 'h' , 'e' , 'l' , 'l' , & 'o'.\n",
    "* A string is a sequence of one or more characters (letters, numbers, symbols) that can be either a constant or a variable. Made up of Unicode, strings are immutable sequences, meaning they are unchanging.\n",
    "### CLASS :\n",
    "A class is a user-defined data type that contains both the data itself and the methods that may be used to manipulate it.Classes serve as a template to create objects.\n",
    "* A class describes the contents of the objects that belong to it: it describes an aggregate of data fields (called instance variables), and defines the operations (called methods).\n",
    "##### SYNTAX : Syntax: Object Definition. obj = ClassName() print(obj.atrr) \n",
    "### OBJECT :\n",
    " Objects are the instances of a particular class. \n",
    "* EXAMPLE :Suppose Bike is a class then we can create objects like bike1 , bike2 , etc from the class.\n",
    "### METHOD :\n",
    " Methods are functions that are associated with an object and can manipulate its data or perform actions on it.\n",
    "* In a Python class, we can define three types of methods:\n",
    "1. Instance methods.\n",
    "2. Class methods.\n",
    "3. Static methods.\n",
    "### PARAMETER :\n",
    "* A parameter is the variable listed inside the parentheses in the function definition.\n",
    "* Parameter should be within the parentheses of the function.\n",
    "### ASCII :\n",
    "* ASCII stands for American Standard Code for Information Interchange. It is a numeric value given to different characters and symbols, for computers to store and manipulate. For example, the ASCII value of the letter 'A' is 65.\n",
    "### DIRECTORY :\n",
    "* The dir() function returns all properties and methods of the specified object, without the values.\n",
    "* This function will return all the properties and methods, even built-in properties which are default for all object."
   ]
  },
  {
   "cell_type": "markdown",
   "id": "506df6e4",
   "metadata": {},
   "source": [
    "# <u><i> STRING METHODS: </i></u> "
   ]
  },
  {
   "cell_type": "code",
   "execution_count": 306,
   "id": "350a4a44",
   "metadata": {},
   "outputs": [
    {
     "data": {
      "text/plain": [
       "['__add__',\n",
       " '__class__',\n",
       " '__contains__',\n",
       " '__delattr__',\n",
       " '__dir__',\n",
       " '__doc__',\n",
       " '__eq__',\n",
       " '__format__',\n",
       " '__ge__',\n",
       " '__getattribute__',\n",
       " '__getitem__',\n",
       " '__getnewargs__',\n",
       " '__getstate__',\n",
       " '__gt__',\n",
       " '__hash__',\n",
       " '__init__',\n",
       " '__init_subclass__',\n",
       " '__iter__',\n",
       " '__le__',\n",
       " '__len__',\n",
       " '__lt__',\n",
       " '__mod__',\n",
       " '__mul__',\n",
       " '__ne__',\n",
       " '__new__',\n",
       " '__reduce__',\n",
       " '__reduce_ex__',\n",
       " '__repr__',\n",
       " '__rmod__',\n",
       " '__rmul__',\n",
       " '__setattr__',\n",
       " '__sizeof__',\n",
       " '__str__',\n",
       " '__subclasshook__',\n",
       " 'capitalize',\n",
       " 'casefold',\n",
       " 'center',\n",
       " 'count',\n",
       " 'encode',\n",
       " 'endswith',\n",
       " 'expandtabs',\n",
       " 'find',\n",
       " 'format',\n",
       " 'format_map',\n",
       " 'index',\n",
       " 'isalnum',\n",
       " 'isalpha',\n",
       " 'isascii',\n",
       " 'isdecimal',\n",
       " 'isdigit',\n",
       " 'isidentifier',\n",
       " 'islower',\n",
       " 'isnumeric',\n",
       " 'isprintable',\n",
       " 'isspace',\n",
       " 'istitle',\n",
       " 'isupper',\n",
       " 'join',\n",
       " 'ljust',\n",
       " 'lower',\n",
       " 'lstrip',\n",
       " 'maketrans',\n",
       " 'partition',\n",
       " 'removeprefix',\n",
       " 'removesuffix',\n",
       " 'replace',\n",
       " 'rfind',\n",
       " 'rindex',\n",
       " 'rjust',\n",
       " 'rpartition',\n",
       " 'rsplit',\n",
       " 'rstrip',\n",
       " 'split',\n",
       " 'splitlines',\n",
       " 'startswith',\n",
       " 'strip',\n",
       " 'swapcase',\n",
       " 'title',\n",
       " 'translate',\n",
       " 'upper',\n",
       " 'zfill']"
      ]
     },
     "execution_count": 306,
     "metadata": {},
     "output_type": "execute_result"
    }
   ],
   "source": [
    "a = \"string\" \n",
    "dir(a) # ALL THE METHODS PRESENT IN CLASS"
   ]
  },
  {
   "cell_type": "markdown",
   "id": "d77797de",
   "metadata": {},
   "source": [
    "### 1. ord(): [order]\n",
    "* The ord() function returns the number representing the unicode code of a specified character.\n",
    "* ord(ch) returns the byte value for a character - \"a\" is 65, \"b\" is 66, etc.  "
   ]
  },
  {
   "cell_type": "code",
   "execution_count": 307,
   "id": "f5c3c6bf",
   "metadata": {},
   "outputs": [
    {
     "data": {
      "text/plain": [
       "65"
      ]
     },
     "execution_count": 307,
     "metadata": {},
     "output_type": "execute_result"
    }
   ],
   "source": [
    "#EXAMPLE :\n",
    "ord('A') # HERE NO. REPRESENTING THE UNICODE OF THE CHARACTER 'A' IS GIVEN AS OUTPUT"
   ]
  },
  {
   "cell_type": "code",
   "execution_count": 308,
   "id": "941f0daa",
   "metadata": {},
   "outputs": [
    {
     "data": {
      "text/plain": [
       "97"
      ]
     },
     "execution_count": 308,
     "metadata": {},
     "output_type": "execute_result"
    }
   ],
   "source": [
    "ord('a') # SIMILARLY HERE NO. REPRESENTING THE UNICODE OF THE CHARACTER 'a' IS GIVEN AS OUTPUT"
   ]
  },
  {
   "cell_type": "markdown",
   "id": "8225f281",
   "metadata": {},
   "source": [
    "## 2. lower() : [lowercase]"
   ]
  },
  {
   "cell_type": "code",
   "execution_count": 309,
   "id": "1c79eff4",
   "metadata": {},
   "outputs": [
    {
     "data": {
      "text/plain": [
       "'you must be the change you wish to see in the world.'"
      ]
     },
     "execution_count": 309,
     "metadata": {},
     "output_type": "execute_result"
    }
   ],
   "source": [
    "str1 = \"You must be the change you wish to see in the world.\"\n",
    "str1.lower() #COMPLETE STRING IS DISPLAYED IN LOWERCASE LETTERS"
   ]
  },
  {
   "cell_type": "markdown",
   "id": "827f165a",
   "metadata": {},
   "source": [
    "## 3. upper() :[uppercase]\n",
    "*  The upper() method returns the uppercased string from the given string."
   ]
  },
  {
   "cell_type": "code",
   "execution_count": 310,
   "id": "617b8069",
   "metadata": {},
   "outputs": [
    {
     "data": {
      "text/plain": [
       "'YOU MUST BE THE CHANGE YOU WISH TO SEE IN THE WORLD.'"
      ]
     },
     "execution_count": 310,
     "metadata": {},
     "output_type": "execute_result"
    }
   ],
   "source": [
    "str1.upper() #COMPLETE STRING IS DISPLAYED IN UPPERCASE LETTERS"
   ]
  },
  {
   "cell_type": "markdown",
   "id": "e0f01224",
   "metadata": {},
   "source": [
    "## 4. capitalize() :\n",
    "* 1st alphabet of the string is capital."
   ]
  },
  {
   "cell_type": "code",
   "execution_count": 311,
   "id": "4f4ec7ad",
   "metadata": {},
   "outputs": [
    {
     "data": {
      "text/plain": [
       "'You must be the change you wish to see in the world.'"
      ]
     },
     "execution_count": 311,
     "metadata": {},
     "output_type": "execute_result"
    }
   ],
   "source": [
    "str1.capitalize() #1ST ALPHABET IN THE COMPLETE STRING IS CAPITAL\""
   ]
  },
  {
   "cell_type": "markdown",
   "id": "d99f92a1",
   "metadata": {},
   "source": [
    "## 5. title() :\n",
    "* This method changes first alphabet of every word will convert into capital letter"
   ]
  },
  {
   "cell_type": "code",
   "execution_count": 312,
   "id": "397eaf83",
   "metadata": {},
   "outputs": [
    {
     "data": {
      "text/plain": [
       "'You Must Be The Change You Wish To See In The World.'"
      ]
     },
     "execution_count": 312,
     "metadata": {},
     "output_type": "execute_result"
    }
   ],
   "source": [
    "str1.title() #FIRST ALPHABET OF EVERY WORD IN THE STRING IS CAPITAL"
   ]
  },
  {
   "cell_type": "markdown",
   "id": "537e8321",
   "metadata": {},
   "source": [
    "## 6. swapcase() :\n",
    "* This method changes capital letters to small letters and small letters to capital letters"
   ]
  },
  {
   "cell_type": "code",
   "execution_count": 313,
   "id": "d82af9c0",
   "metadata": {},
   "outputs": [
    {
     "data": {
      "text/plain": [
       "'hARE kRISHNA'"
      ]
     },
     "execution_count": 313,
     "metadata": {},
     "output_type": "execute_result"
    }
   ],
   "source": [
    "swap = \"Hare Krishna\"\n",
    "swap.swapcase() #IT PRINTS LOWERCASE TO UPPERCASE LETTERS, UPPERCASE TO LOWERCASE LETTERS"
   ]
  },
  {
   "cell_type": "markdown",
   "id": "5e2e2f66",
   "metadata": {},
   "source": [
    "## 7. casefold() :\n",
    "\n",
    "* This method changes string lower case to more lower case , special characters like Germen character (ß) is already in lower case so, the lower method doesn’t make the conversion.\n",
    "* The casefold() method will convert ß to its equivalent character ss\n"
   ]
  },
  {
   "cell_type": "code",
   "execution_count": 314,
   "id": "aee00bdf",
   "metadata": {},
   "outputs": [
    {
     "data": {
      "text/plain": [
       "'german ss is ss'"
      ]
     },
     "execution_count": 314,
     "metadata": {},
     "output_type": "execute_result"
    }
   ],
   "source": [
    "B = 'German ss is ß'\n",
    "B.casefold()"
   ]
  },
  {
   "cell_type": "markdown",
   "id": "b91d7ccf",
   "metadata": {},
   "source": [
    "## 8. help():\n",
    "*  If no argument is given, the interactive help system starts on the interpreter console. If you want to get out of help console, type quit.\n",
    "* We can also get the help documentation directly from the python console by passing a parameter to help() function.\n",
    "* Syntax : help(object)\n"
   ]
  },
  {
   "cell_type": "code",
   "execution_count": 315,
   "id": "81a47b8b",
   "metadata": {},
   "outputs": [
    {
     "name": "stdout",
     "output_type": "stream",
     "text": [
      "Help on class object in module builtins:\n",
      "\n",
      "class object\n",
      " |  The base class of the class hierarchy.\n",
      " |  \n",
      " |  When called, it accepts no arguments and returns a new featureless\n",
      " |  instance that has no instance attributes and cannot be given any.\n",
      " |  \n",
      " |  Built-in subclasses:\n",
      " |      anext_awaitable\n",
      " |      async_generator\n",
      " |      async_generator_asend\n",
      " |      async_generator_athrow\n",
      " |      ... and 93 other subclasses\n",
      " |  \n",
      " |  Methods defined here:\n",
      " |  \n",
      " |  __delattr__(self, name, /)\n",
      " |      Implement delattr(self, name).\n",
      " |  \n",
      " |  __dir__(self, /)\n",
      " |      Default dir() implementation.\n",
      " |  \n",
      " |  __eq__(self, value, /)\n",
      " |      Return self==value.\n",
      " |  \n",
      " |  __format__(self, format_spec, /)\n",
      " |      Default object formatter.\n",
      " |  \n",
      " |  __ge__(self, value, /)\n",
      " |      Return self>=value.\n",
      " |  \n",
      " |  __getattribute__(self, name, /)\n",
      " |      Return getattr(self, name).\n",
      " |  \n",
      " |  __getstate__(self, /)\n",
      " |      Helper for pickle.\n",
      " |  \n",
      " |  __gt__(self, value, /)\n",
      " |      Return self>value.\n",
      " |  \n",
      " |  __hash__(self, /)\n",
      " |      Return hash(self).\n",
      " |  \n",
      " |  __init__(self, /, *args, **kwargs)\n",
      " |      Initialize self.  See help(type(self)) for accurate signature.\n",
      " |  \n",
      " |  __le__(self, value, /)\n",
      " |      Return self<=value.\n",
      " |  \n",
      " |  __lt__(self, value, /)\n",
      " |      Return self<value.\n",
      " |  \n",
      " |  __ne__(self, value, /)\n",
      " |      Return self!=value.\n",
      " |  \n",
      " |  __reduce__(self, /)\n",
      " |      Helper for pickle.\n",
      " |  \n",
      " |  __reduce_ex__(self, protocol, /)\n",
      " |      Helper for pickle.\n",
      " |  \n",
      " |  __repr__(self, /)\n",
      " |      Return repr(self).\n",
      " |  \n",
      " |  __setattr__(self, name, value, /)\n",
      " |      Implement setattr(self, name, value).\n",
      " |  \n",
      " |  __sizeof__(self, /)\n",
      " |      Size of object in memory, in bytes.\n",
      " |  \n",
      " |  __str__(self, /)\n",
      " |      Return str(self).\n",
      " |  \n",
      " |  ----------------------------------------------------------------------\n",
      " |  Class methods defined here:\n",
      " |  \n",
      " |  __init_subclass__(...) from builtins.type\n",
      " |      This method is called when a class is subclassed.\n",
      " |      \n",
      " |      The default implementation does nothing. It may be\n",
      " |      overridden to extend subclasses.\n",
      " |  \n",
      " |  __subclasshook__(...) from builtins.type\n",
      " |      Abstract classes can override this to customize issubclass().\n",
      " |      \n",
      " |      This is invoked early on by abc.ABCMeta.__subclasscheck__().\n",
      " |      It should return True, False or NotImplemented.  If it returns\n",
      " |      NotImplemented, the normal algorithm is used.  Otherwise, it\n",
      " |      overrides the normal algorithm (and the outcome is cached).\n",
      " |  \n",
      " |  ----------------------------------------------------------------------\n",
      " |  Static methods defined here:\n",
      " |  \n",
      " |  __new__(*args, **kwargs) from builtins.type\n",
      " |      Create and return a new object.  See help(type) for accurate signature.\n",
      " |  \n",
      " |  ----------------------------------------------------------------------\n",
      " |  Data and other attributes defined here:\n",
      " |  \n",
      " |  __class__ = <class 'type'>\n",
      " |      type(object) -> the object's type\n",
      " |      type(name, bases, dict, **kwds) -> a new type\n",
      "\n"
     ]
    }
   ],
   "source": [
    "help(object) # IT INVOKES BUILT IN HELP SYSTEM"
   ]
  },
  {
   "cell_type": "markdown",
   "id": "02302582",
   "metadata": {},
   "source": [
    "## 9. find(): \n",
    "* find() method returns the lowest index or first occurrence of the substring if it is found in a given string.\n",
    "    If it is not found, then it returns -1.\n",
    "\n",
    "* Syntax: str_obj.find(sub, start, end)\n",
    "##### Parameters:\n",
    "\n",
    "* sub: Substring that needs to be searched in the given string.\n",
    "* start (optional): Starting position where the substring needs to be checked within the string.\n",
    "* end (optional): End position is the index of the last value for the specified range. It is excluded while checking.\n",
    "\n",
    "\n"
   ]
  },
  {
   "cell_type": "code",
   "execution_count": 316,
   "id": "7e07e546",
   "metadata": {},
   "outputs": [
    {
     "name": "stdout",
     "output_type": "stream",
     "text": [
      "You must be the change you wish to see in the world.\n"
     ]
    }
   ],
   "source": [
    "print(str1)"
   ]
  },
  {
   "cell_type": "code",
   "execution_count": 317,
   "id": "30d8518c",
   "metadata": {},
   "outputs": [
    {
     "data": {
      "text/plain": [
       "10"
      ]
     },
     "execution_count": 317,
     "metadata": {},
     "output_type": "execute_result"
    }
   ],
   "source": [
    "str1.find('e') # THE INDEX VALUE OF 1ST SUBSTRING \"e\" IS 10."
   ]
  },
  {
   "cell_type": "code",
   "execution_count": 318,
   "id": "29591148",
   "metadata": {},
   "outputs": [
    {
     "data": {
      "text/plain": [
       "5"
      ]
     },
     "execution_count": 318,
     "metadata": {},
     "output_type": "execute_result"
    }
   ],
   "source": [
    "str1.find('u',3) #THE INDEX VALUE OF 1ST SUBSTRING \"u\" IS 5.\n",
    "#SINCE START POSITION IS \"3\" IT IS GOING TO CHECK SUBSTRING FROM START POSITION."
   ]
  },
  {
   "cell_type": "code",
   "execution_count": 319,
   "id": "7780eef1",
   "metadata": {},
   "outputs": [
    {
     "data": {
      "text/plain": [
       "24"
      ]
     },
     "execution_count": 319,
     "metadata": {},
     "output_type": "execute_result"
    }
   ],
   "source": [
    "str1.find('o',20,50) #THE INDEX VALUE OF 1ST SUBSTRING \"o\" IS 24. SINCE START IS 20, THE SUBSTRING \"o\" IS CHECKED FROM START STRING"
   ]
  },
  {
   "cell_type": "code",
   "execution_count": 320,
   "id": "7b9e0913",
   "metadata": {},
   "outputs": [
    {
     "name": "stdout",
     "output_type": "stream",
     "text": [
      "Help on built-in function find:\n",
      "\n",
      "find(...) method of builtins.str instance\n",
      "    S.find(sub[, start[, end]]) -> int\n",
      "    \n",
      "    Return the lowest index in S where substring sub is found,\n",
      "    such that sub is contained within S[start:end].  Optional\n",
      "    arguments start and end are interpreted as in slice notation.\n",
      "    \n",
      "    Return -1 on failure.\n",
      "\n"
     ]
    }
   ],
   "source": [
    "help(str1.find)"
   ]
  },
  {
   "cell_type": "markdown",
   "id": "438fc9ab",
   "metadata": {},
   "source": [
    "## 10. rfind():\n",
    "\n",
    "* rfind() method returns the rightmost index of the substring if found in the given string.\n",
    "* If not found then it returns -1.\n",
    "\n",
    "* Syntax: str.rfind(sub, start, end)\n",
    "#### Parameters:\n",
    "\n",
    "* sub: It’s the substring that needs to be searched in the given string.\n",
    "* start: Starting position where the sub needs to be checked within the string.\n",
    "* end: Ending position where suffix needs to be checked within the string.\n"
   ]
  },
  {
   "cell_type": "code",
   "execution_count": 321,
   "id": "e8e8e8e4",
   "metadata": {},
   "outputs": [
    {
     "name": "stdout",
     "output_type": "stream",
     "text": [
      "Help on built-in function rfind:\n",
      "\n",
      "rfind(...) method of builtins.str instance\n",
      "    S.rfind(sub[, start[, end]]) -> int\n",
      "    \n",
      "    Return the highest index in S where substring sub is found,\n",
      "    such that sub is contained within S[start:end].  Optional\n",
      "    arguments start and end are interpreted as in slice notation.\n",
      "    \n",
      "    Return -1 on failure.\n",
      "\n"
     ]
    }
   ],
   "source": [
    "help(str1.rfind)"
   ]
  },
  {
   "cell_type": "code",
   "execution_count": 322,
   "id": "57875930",
   "metadata": {},
   "outputs": [
    {
     "data": {
      "text/plain": [
       "'gajularamaram'"
      ]
     },
     "execution_count": 322,
     "metadata": {},
     "output_type": "execute_result"
    }
   ],
   "source": [
    "name = \"gajularamaram\"\n",
    "name"
   ]
  },
  {
   "cell_type": "code",
   "execution_count": 323,
   "id": "6feb562c",
   "metadata": {},
   "outputs": [
    {
     "data": {
      "text/plain": [
       "11"
      ]
     },
     "execution_count": 323,
     "metadata": {},
     "output_type": "execute_result"
    }
   ],
   "source": [
    "name.rfind('a') # IT CHECKS FROM BACK AND FINDS THE SUBSTRING POSITION &GIVES POSITVE INDEXING FROM( L -> R)"
   ]
  },
  {
   "cell_type": "code",
   "execution_count": 324,
   "id": "1ce7fc5a",
   "metadata": {},
   "outputs": [
    {
     "data": {
      "text/plain": [
       "9"
      ]
     },
     "execution_count": 324,
     "metadata": {},
     "output_type": "execute_result"
    }
   ],
   "source": [
    "name.rfind('a',2,11)"
   ]
  },
  {
   "cell_type": "markdown",
   "id": "56a63038",
   "metadata": {},
   "source": [
    "\n",
    "<img src =\"https://github.com/avugaddisowjanya2002/img-/assets/136232045/42bfe814-1c64-4492-9a6e-4638801b9139\"\n",
    "     align = \"left\"\n",
    "     width = \"500\"\n",
    "     height = \"200\">"
   ]
  },
  {
   "cell_type": "markdown",
   "id": "76a8e418",
   "metadata": {},
   "source": [
    "## 11. Index():\n",
    "\n",
    "* The index() method returns the position at the first occurrence of the specified value.\n",
    "* Syntax : list.index(elmnt)\n",
    "\n",
    "##### Parameters:\n",
    "\n",
    "    substring: The string to be searched for.\n",
    "    start (default : 0) : This function specifies the position from where the search has to be started.\n",
    "    end (default: length of string): This function specifies the position from where the search has to end.\n",
    "\n"
   ]
  },
  {
   "cell_type": "code",
   "execution_count": 325,
   "id": "953dff93",
   "metadata": {},
   "outputs": [
    {
     "name": "stdout",
     "output_type": "stream",
     "text": [
      "Help on built-in function index:\n",
      "\n",
      "index(...) method of builtins.str instance\n",
      "    S.index(sub[, start[, end]]) -> int\n",
      "    \n",
      "    Return the lowest index in S where substring sub is found,\n",
      "    such that sub is contained within S[start:end].  Optional\n",
      "    arguments start and end are interpreted as in slice notation.\n",
      "    \n",
      "    Raises ValueError when the substring is not found.\n",
      "\n"
     ]
    }
   ],
   "source": [
    "help(name.index)"
   ]
  },
  {
   "cell_type": "code",
   "execution_count": 326,
   "id": "0c560511",
   "metadata": {},
   "outputs": [
    {
     "data": {
      "text/plain": [
       "(2, 6)"
      ]
     },
     "execution_count": 326,
     "metadata": {},
     "output_type": "execute_result"
    }
   ],
   "source": [
    "name.find('j'),name.index('r') #Tt returns the position at the first occurrence of the specified value"
   ]
  },
  {
   "cell_type": "code",
   "execution_count": 327,
   "id": "111c5eee",
   "metadata": {},
   "outputs": [
    {
     "data": {
      "text/plain": [
       "-1"
      ]
     },
     "execution_count": 327,
     "metadata": {},
     "output_type": "execute_result"
    }
   ],
   "source": [
    "name.find('s')#returns -1 because there is no alphabet \"s\" in string"
   ]
  },
  {
   "cell_type": "code",
   "execution_count": 328,
   "id": "b1b5349a",
   "metadata": {},
   "outputs": [],
   "source": [
    "#name.index('s') # throws error(value error) there is no \"s\" in string[uncomment to read error]"
   ]
  },
  {
   "cell_type": "markdown",
   "id": "242a9ff3",
   "metadata": {},
   "source": [
    "## 12. count() :\n",
    "*  Count() is a Python built-in function that returns the number of times an object appears in a list.\n",
    "*   It returns the number of times a given value occurs in a string or a list, as the name implies.\n",
    "* Syntax : help(object)\n",
    "##### Parameters:\n",
    "\n",
    "* The count() function has one compulsory and two optional parameters.\n",
    "* substring – string whose count is to be found.\n",
    "* start (Optional) – starting index within the string where the search starts.\n",
    "* end (Optional) – ending index within the string where the search ends.\n",
    "\n"
   ]
  },
  {
   "cell_type": "code",
   "execution_count": 329,
   "id": "5ba6e8ea",
   "metadata": {},
   "outputs": [
    {
     "name": "stdout",
     "output_type": "stream",
     "text": [
      "Help on built-in function count:\n",
      "\n",
      "count(...) method of builtins.str instance\n",
      "    S.count(sub[, start[, end]]) -> int\n",
      "    \n",
      "    Return the number of non-overlapping occurrences of substring sub in\n",
      "    string S[start:end].  Optional arguments start and end are\n",
      "    interpreted as in slice notation.\n",
      "\n"
     ]
    }
   ],
   "source": [
    "help(name.count)"
   ]
  },
  {
   "cell_type": "code",
   "execution_count": 330,
   "id": "e24cd133",
   "metadata": {},
   "outputs": [
    {
     "data": {
      "text/plain": [
       "5"
      ]
     },
     "execution_count": 330,
     "metadata": {},
     "output_type": "execute_result"
    }
   ],
   "source": [
    "name.count('a') # It returns \"5\" since the count of \"a\" in the given string is 5."
   ]
  },
  {
   "cell_type": "code",
   "execution_count": 331,
   "id": "dd2332d6",
   "metadata": {},
   "outputs": [
    {
     "data": {
      "text/plain": [
       "2"
      ]
     },
     "execution_count": 331,
     "metadata": {},
     "output_type": "execute_result"
    }
   ],
   "source": [
    "name.count('r',2,13) #starting index and ending index within the string where the search starts and ends."
   ]
  },
  {
   "cell_type": "markdown",
   "id": "ad79a904",
   "metadata": {},
   "source": [
    "## 13. rindex() :[right indexing]\n",
    "*  rindex() method returns the highest index of the substring inside the string if the substring is found.\n",
    "*  Otherwise, it raises ValueError.\n",
    "*  Syntax: str.rindex(sub, start, end)\n",
    "\n",
    "##### Parameters:\n",
    "\n",
    "* sub : It’s the substring which needs to be searched in the given string.\n",
    "*  start : Starting position where sub is needs to be checked within the string.\n",
    "* end : Ending position where suffix is needs to be checked within the string.\n",
    "\n",
    "##### syntax : string.rindex(sub[, start[, end]])\n"
   ]
  },
  {
   "cell_type": "code",
   "execution_count": 332,
   "id": "9da92226",
   "metadata": {},
   "outputs": [
    {
     "data": {
      "text/plain": [
       "10"
      ]
     },
     "execution_count": 332,
     "metadata": {},
     "output_type": "execute_result"
    }
   ],
   "source": [
    "name.rindex('r')"
   ]
  },
  {
   "cell_type": "code",
   "execution_count": 333,
   "id": "1575bebc",
   "metadata": {},
   "outputs": [
    {
     "data": {
      "text/plain": [
       "8"
      ]
     },
     "execution_count": 333,
     "metadata": {},
     "output_type": "execute_result"
    }
   ],
   "source": [
    "name.rindex('m',8,12)"
   ]
  },
  {
   "attachments": {
    "rindex.jpg": {
     "image/jpeg": "[encoded data removed]"
    }
   },
   "cell_type": "markdown",
   "id": "03666ab5",
   "metadata": {},
   "source": [
    "![rindex.jpg](attachment:rindex.jpg)\n"
   ]
  },
  {
   "cell_type": "code",
   "execution_count": 334,
   "id": "a5104a17",
   "metadata": {},
   "outputs": [],
   "source": [
    "#name.rindex('z') #(uncomment to see error)"
   ]
  },
  {
   "cell_type": "markdown",
   "id": "4c574f00",
   "metadata": {},
   "source": [
    "## 14. replace() :\n",
    "* replace() in Python returns a copy of the string where occurrences of a substring are replaced with another substring.\n",
    "*  Syntax: string.replace(old, new, count)\n",
    "\n",
    "##### Parameters:\n",
    "\n",
    "* old – old substring you want to replace.\n",
    "* new – new substring which would replace the old substring.\n",
    "* count – (Optional ) the number of times you want to replace the old substring with the new substring.\n"
   ]
  },
  {
   "cell_type": "code",
   "execution_count": 335,
   "id": "efee2ab8",
   "metadata": {},
   "outputs": [
    {
     "data": {
      "text/plain": [
       "'Ice blue'"
      ]
     },
     "execution_count": 335,
     "metadata": {},
     "output_type": "execute_result"
    }
   ],
   "source": [
    "color = \"ice blue\"\n",
    "color.replace('i','I')\n"
   ]
  },
  {
   "cell_type": "markdown",
   "id": "6cb4c815",
   "metadata": {},
   "source": [
    "## 15. split():\n",
    "\n",
    "* split() method in Python split a string into a list of strings after breaking the given string by the specified separator.\n",
    "* Syntax : str.split(separator, maxsplit)\n",
    "\n",
    "##### Parameters :\n",
    "\n",
    "* separator: This is a delimiter. The string splits at this specified separator. If is not provided then any white space is a separator.\n",
    "* maxsplit: It is a number, which tells us to split the string into maximum of provided number of times. If it is not provided then the default is -1 that means there is no limit.\n"
   ]
  },
  {
   "cell_type": "code",
   "execution_count": 336,
   "id": "94cbdf30",
   "metadata": {},
   "outputs": [
    {
     "name": "stdout",
     "output_type": "stream",
     "text": [
      "You must be the change you wish to see in the world.\n"
     ]
    },
    {
     "data": {
      "text/plain": [
       "['You',\n",
       " 'must',\n",
       " 'be',\n",
       " 'the',\n",
       " 'change',\n",
       " 'you',\n",
       " 'wish',\n",
       " 'to',\n",
       " 'see',\n",
       " 'in',\n",
       " 'the',\n",
       " 'world.']"
      ]
     },
     "execution_count": 336,
     "metadata": {},
     "output_type": "execute_result"
    }
   ],
   "source": [
    "print(str1)\n",
    "str1.split()"
   ]
  },
  {
   "cell_type": "markdown",
   "id": "9a16be74",
   "metadata": {},
   "source": [
    "## 16. rsplit() :\n",
    "\n",
    "*  The rsplit() method splits a string into a list, starting from the right. If no \"max\" is specified, this method will return the same as the split() method.\n",
    "* Note: When maxsplit is specified, the list will contain the specified number of elements plus one.\n",
    "\n"
   ]
  },
  {
   "cell_type": "code",
   "execution_count": 337,
   "id": "5a84dbb5",
   "metadata": {},
   "outputs": [
    {
     "data": {
      "text/plain": [
       "['You',\n",
       " 'must',\n",
       " 'be',\n",
       " 'the',\n",
       " 'change',\n",
       " 'you',\n",
       " 'wish',\n",
       " 'to',\n",
       " 'see',\n",
       " 'in',\n",
       " 'the',\n",
       " 'world.']"
      ]
     },
     "execution_count": 337,
     "metadata": {},
     "output_type": "execute_result"
    }
   ],
   "source": [
    "str1.rsplit()# splits from right to left"
   ]
  },
  {
   "cell_type": "markdown",
   "id": "b51b3fe9",
   "metadata": {},
   "source": [
    "## 17. partition() :\n",
    "* partition() method splits the string at the first occurrence of the separator and returns a tuple containing the part before the separator, the separator, and the part after the separator.\n",
    "* Syntax: string.partition(separator)\n",
    "\n",
    "###### Parameters:\n",
    "\n",
    "* separator: a substring that separates the string\n"
   ]
  },
  {
   "cell_type": "code",
   "execution_count": 338,
   "id": "e79da23b",
   "metadata": {},
   "outputs": [
    {
     "data": {
      "text/plain": [
       "('You', ' ', 'must be the change you wish to see in the world.')"
      ]
     },
     "execution_count": 338,
     "metadata": {},
     "output_type": "execute_result"
    }
   ],
   "source": [
    "str1.partition(' ')#partitioned by space token"
   ]
  },
  {
   "cell_type": "code",
   "execution_count": 339,
   "id": "48a6e07e",
   "metadata": {},
   "outputs": [
    {
     "data": {
      "text/plain": [
       "('g', 'a', 'jularamaram')"
      ]
     },
     "execution_count": 339,
     "metadata": {},
     "output_type": "execute_result"
    }
   ],
   "source": [
    "name.partition('a')"
   ]
  },
  {
   "cell_type": "code",
   "execution_count": 340,
   "id": "065cd4a1",
   "metadata": {},
   "outputs": [
    {
     "data": {
      "text/plain": [
       "('gajularamaram', '', '')"
      ]
     },
     "execution_count": 340,
     "metadata": {},
     "output_type": "execute_result"
    }
   ],
   "source": [
    "name.partition('s')"
   ]
  },
  {
   "cell_type": "markdown",
   "id": "cd00d748",
   "metadata": {},
   "source": [
    "## 18. rpartition() :\n",
    "\n",
    "* rpartition() Method split the given string into three parts.\n",
    "* rpartition() starts looking for separator from the right side, till the separator is found and return a tuple which contains part of the string before separator, the separator and the part after the separator.\n",
    "##### Syntax : string.rpartition(separator)\n",
    "\n",
    "##### Parameters :\n",
    "\n",
    "    separator – separates the string at the first occurrence of it.\n",
    "\n"
   ]
  },
  {
   "cell_type": "code",
   "execution_count": 341,
   "id": "05349a2b",
   "metadata": {},
   "outputs": [
    {
     "data": {
      "text/plain": [
       "('gajularamar', 'a', 'm')"
      ]
     },
     "execution_count": 341,
     "metadata": {},
     "output_type": "execute_result"
    }
   ],
   "source": [
    "name.rpartition('a') # from right to left the partitioning will be done"
   ]
  },
  {
   "cell_type": "code",
   "execution_count": 342,
   "id": "dcec15b6",
   "metadata": {},
   "outputs": [
    {
     "data": {
      "text/plain": [
       "('', '', 'gajularamaram')"
      ]
     },
     "execution_count": 342,
     "metadata": {},
     "output_type": "execute_result"
    }
   ],
   "source": [
    "name.rpartition('z')# it checks complete string, string will be displayed and then gives empty space. [R -> L]"
   ]
  },
  {
   "cell_type": "markdown",
   "id": "f630a659",
   "metadata": {},
   "source": [
    "## 19. splitlines():\n",
    "\n",
    "* splitlines() method is used to split the lines at line boundaries. The function returns a list of lines in the string, including the line break(optional).\n",
    "##### Syntax: string.splitlines([keepends])\n",
    "\n",
    "##### Parameters:\n",
    "\n",
    "    keepends (optional): When set to True line breaks are included in the resulting list.\n",
    "    This can be a number, specifying the position of line break or, can be any Unicode characters, like “\\n”, “\\r”, “\\r\\n”, etc as boundaries for strings.\n"
   ]
  },
  {
   "cell_type": "code",
   "execution_count": 343,
   "id": "f24b2d2f",
   "metadata": {},
   "outputs": [
    {
     "name": "stdout",
     "output_type": "stream",
     "text": [
      "I thought a thought. \n",
      "But the thought I thought wasn’t the thought I thought I thought. \n",
      "If the thought I thought I thought had been the thought I thought, I wouldn’t have thought I thought.\n"
     ]
    },
    {
     "data": {
      "text/plain": [
       "['I thought a thought. ',\n",
       " 'But the thought I thought wasn’t the thought I thought I thought. ',\n",
       " 'If the thought I thought I thought had been the thought I thought, I wouldn’t have thought I thought.']"
      ]
     },
     "execution_count": 343,
     "metadata": {},
     "output_type": "execute_result"
    }
   ],
   "source": [
    "tounge_twister = '''I thought a thought. \n",
    "But the thought I thought wasn’t the thought I thought I thought. \n",
    "If the thought I thought I thought had been the thought I thought, I wouldn’t have thought I thought.'''\n",
    "print(tounge_twister)\n",
    "tounge_twister.splitlines()"
   ]
  },
  {
   "cell_type": "markdown",
   "id": "d728a556",
   "metadata": {},
   "source": [
    "## 20.center(): \n",
    "\n",
    "* center() method creates and returns a new string that is padded with the specified character.\n",
    "##### Syntax: string.center(length[, fillchar])\n",
    "\n",
    "##### Parameters:\n",
    "\n",
    "* length: length of the string after padding with the characters.\n",
    " * fillchar: (optional) characters which need to be padded. If it’s not provided, space is taken as the default argument.\n"
   ]
  },
  {
   "cell_type": "code",
   "execution_count": 344,
   "id": "11de1fbd",
   "metadata": {},
   "outputs": [
    {
     "data": {
      "text/plain": [
       "'   gajularamaram    '"
      ]
     },
     "execution_count": 344,
     "metadata": {},
     "output_type": "execute_result"
    }
   ],
   "source": [
    "name.center(20)# prints the string in center"
   ]
  },
  {
   "cell_type": "code",
   "execution_count": 345,
   "id": "df64aeab",
   "metadata": {},
   "outputs": [
    {
     "data": {
      "text/plain": [
       "'***gajularamaram****'"
      ]
     },
     "execution_count": 345,
     "metadata": {},
     "output_type": "execute_result"
    }
   ],
   "source": [
    "name.center(20,'*') #we cannot have pattern we can only have one particular string"
   ]
  },
  {
   "cell_type": "code",
   "execution_count": 346,
   "id": "95ebabc6",
   "metadata": {},
   "outputs": [
    {
     "data": {
      "text/plain": [
       "'gajularamaram'"
      ]
     },
     "execution_count": 346,
     "metadata": {},
     "output_type": "execute_result"
    }
   ],
   "source": [
    "name.center(5,'*')"
   ]
  },
  {
   "cell_type": "markdown",
   "id": "96215a12",
   "metadata": {},
   "source": [
    "## 21.ljust():\n",
    "* ljust() method left aligns the string according to the width specified and fills the remaining space of the line with blank space if ‘fillchr‘ argument is not passed.\n",
    "##### Syntax: ljust(len, fillchr)\n",
    "\n",
    "##### Parameters:\n",
    "\n",
    "    len: The width of string to expand it.\n",
    "    fillchr (optional): The character to fill in the remaining space.\n"
   ]
  },
  {
   "cell_type": "code",
   "execution_count": 347,
   "id": "253e5032",
   "metadata": {},
   "outputs": [
    {
     "data": {
      "text/plain": [
       "'gajularamaram'"
      ]
     },
     "execution_count": 347,
     "metadata": {},
     "output_type": "execute_result"
    }
   ],
   "source": [
    "name.ljust(10) #within the given length the string gets printed towards left"
   ]
  },
  {
   "cell_type": "code",
   "execution_count": 348,
   "id": "cb540816",
   "metadata": {},
   "outputs": [
    {
     "data": {
      "text/plain": [
       "'gajularamaram*****************'"
      ]
     },
     "execution_count": 348,
     "metadata": {},
     "output_type": "execute_result"
    }
   ],
   "source": [
    "name.ljust(30,'*')"
   ]
  },
  {
   "cell_type": "markdown",
   "id": "427b5a65",
   "metadata": {},
   "source": [
    "## 22. rjust() :\n",
    "\n",
    "* rjust() method returns a new string of a given length after substituting a given character on the left side of the original string.\n",
    "##### Syntax: string.rjust(length, fillchar)\n",
    "\n",
    "##### Parameters:\n",
    "\n",
    "* length: length of the modified string. If length is less than or equal to the length of the original string then original string is returned.\n",
    "* fillchar: (optional) characters which needs to be padded. If it’s not provided, space is taken as a default argument.\n"
   ]
  },
  {
   "cell_type": "code",
   "execution_count": 349,
   "id": "0dab7bcf",
   "metadata": {},
   "outputs": [
    {
     "data": {
      "text/plain": [
       "'                 gajularamaram'"
      ]
     },
     "execution_count": 349,
     "metadata": {},
     "output_type": "execute_result"
    }
   ],
   "source": [
    "name.rjust(30)"
   ]
  },
  {
   "cell_type": "code",
   "execution_count": 350,
   "id": "9346632d",
   "metadata": {},
   "outputs": [
    {
     "data": {
      "text/plain": [
       "'###########################gajularamaram'"
      ]
     },
     "execution_count": 350,
     "metadata": {},
     "output_type": "execute_result"
    }
   ],
   "source": [
    "name.rjust(40,'#')"
   ]
  },
  {
   "cell_type": "markdown",
   "id": "bc0898b0",
   "metadata": {},
   "source": [
    "## 23. zfill() :\n",
    "* zfill() method returns a copy of the string with ‘0’ characters padded to the left side of the given string.\n",
    "##### Syntax: str.zfill(length)\n",
    "\n",
    "##### Parameters:\n",
    "\n",
    "    length: length is the length of the returned string from zfill() with ‘0’ digits filled to the leftside.\n"
   ]
  },
  {
   "cell_type": "code",
   "execution_count": 351,
   "id": "ce9efc53",
   "metadata": {},
   "outputs": [
    {
     "data": {
      "text/plain": [
       "'0000000gajularamaram'"
      ]
     },
     "execution_count": 351,
     "metadata": {},
     "output_type": "execute_result"
    }
   ],
   "source": [
    "name.zfill(20) "
   ]
  },
  {
   "cell_type": "markdown",
   "id": "4a043d9e",
   "metadata": {},
   "source": [
    "## 24. strip()\n",
    "*  rstrip() method returns a copy of the string with trailing characters removed (based on the string argument passed). If no argument is passed, it removes trailing spaces.\n",
    "* Syntax: string.rstrip([chars])\n",
    "\n",
    "##### Parameters:\n",
    "\n",
    "* chars (optional) – a string specifying the set of characters to be removed.\n"
   ]
  },
  {
   "cell_type": "code",
   "execution_count": 352,
   "id": "fba46b1a",
   "metadata": {},
   "outputs": [
    {
     "data": {
      "text/plain": [
       "'fantastic!'"
      ]
     },
     "execution_count": 352,
     "metadata": {},
     "output_type": "execute_result"
    }
   ],
   "source": [
    "p =\"          fantastic!           \"\n",
    "p.strip() #by default removes spaces"
   ]
  },
  {
   "cell_type": "code",
   "execution_count": 353,
   "id": "8a1cb433",
   "metadata": {},
   "outputs": [
    {
     "data": {
      "text/plain": [
       "'#$%Sitharamam%$#'"
      ]
     },
     "execution_count": 353,
     "metadata": {},
     "output_type": "execute_result"
    }
   ],
   "source": [
    "q = \"!@#$%Sitharamam%$#@!\"\n",
    "q.strip('!@')"
   ]
  },
  {
   "cell_type": "code",
   "execution_count": 354,
   "id": "70317a96",
   "metadata": {},
   "outputs": [
    {
     "data": {
      "text/plain": [
       "'!@#$%Sitharamam%$#@!'"
      ]
     },
     "execution_count": 354,
     "metadata": {},
     "output_type": "execute_result"
    }
   ],
   "source": [
    "q.strip('Sitharamam')"
   ]
  },
  {
   "cell_type": "code",
   "execution_count": 355,
   "id": "0b759c88",
   "metadata": {},
   "outputs": [
    {
     "data": {
      "text/plain": [
       "'$%Sitharamam%$'"
      ]
     },
     "execution_count": 355,
     "metadata": {},
     "output_type": "execute_result"
    }
   ],
   "source": [
    "q.strip('!@#')"
   ]
  },
  {
   "cell_type": "code",
   "execution_count": 356,
   "id": "03f1d302",
   "metadata": {},
   "outputs": [
    {
     "data": {
      "text/plain": [
       "'$%Sitharamam%$'"
      ]
     },
     "execution_count": 356,
     "metadata": {},
     "output_type": "execute_result"
    }
   ],
   "source": [
    "q.strip('#@!')"
   ]
  },
  {
   "cell_type": "markdown",
   "id": "ab23bce4",
   "metadata": {},
   "source": [
    "## 25. lstrip():\n",
    "\n",
    "* lstrip() method returns a copy of the string with leading characters removed (based on the string argument passed).\n",
    "* If no argument is passed, it removes leading spaces.\n",
    "###### Syntax: string.lstrip(characters)\n",
    "\n",
    "###### Parameters:\n",
    "\n",
    "* characters [optional]: A set of characters to remove as leading characters. By default, it uses space as the character to remove.\n",
    "\n"
   ]
  },
  {
   "cell_type": "code",
   "execution_count": 357,
   "id": "94cbea1e",
   "metadata": {},
   "outputs": [
    {
     "data": {
      "text/plain": [
       "'$%Sitharamam%$#@!'"
      ]
     },
     "execution_count": 357,
     "metadata": {},
     "output_type": "execute_result"
    }
   ],
   "source": [
    "q.lstrip('!@#')"
   ]
  },
  {
   "cell_type": "code",
   "execution_count": 358,
   "id": "d936494d",
   "metadata": {},
   "outputs": [
    {
     "data": {
      "text/plain": [
       "'$%Sitharamam%$#@!'"
      ]
     },
     "execution_count": 358,
     "metadata": {},
     "output_type": "execute_result"
    }
   ],
   "source": [
    "q.lstrip('#@!')"
   ]
  },
  {
   "cell_type": "code",
   "execution_count": 359,
   "id": "a1da7926",
   "metadata": {},
   "outputs": [
    {
     "data": {
      "text/plain": [
       "'!@#$%Sitharamam%$#@!'"
      ]
     },
     "execution_count": 359,
     "metadata": {},
     "output_type": "execute_result"
    }
   ],
   "source": [
    "q.lstrip('#@')"
   ]
  },
  {
   "cell_type": "markdown",
   "id": "6ccb80fc",
   "metadata": {},
   "source": [
    "## 26. rstrip():\n",
    "\n",
    "* rstrip() method returns a copy of the string with trailing characters removed (based on the string argument passed). If no argument is passed, it removes trailing spaces.\n",
    "##### Syntax: string.rstrip([chars])\n",
    "\n",
    "##### Parameters:\n",
    "\n",
    "    chars (optional) – a string specifying the set of characters to be removed.\n"
   ]
  },
  {
   "cell_type": "code",
   "execution_count": 360,
   "id": "0b41abef",
   "metadata": {},
   "outputs": [
    {
     "data": {
      "text/plain": [
       "'!@#$%Sitharamam%$#'"
      ]
     },
     "execution_count": 360,
     "metadata": {},
     "output_type": "execute_result"
    }
   ],
   "source": [
    "q.rstrip('!@')"
   ]
  },
  {
   "cell_type": "code",
   "execution_count": 361,
   "id": "f0ab892a",
   "metadata": {},
   "outputs": [
    {
     "data": {
      "text/plain": [
       "'!@#$%Sitharama'"
      ]
     },
     "execution_count": 361,
     "metadata": {},
     "output_type": "execute_result"
    }
   ],
   "source": [
    "q.rstrip('!@#$%m')"
   ]
  },
  {
   "cell_type": "markdown",
   "id": "d20ed808",
   "metadata": {},
   "source": [
    "## 27. join() :\n",
    "\n",
    "* join() is an inbuilt string function in Python used to join elements of the sequence separated by a string separator.\n",
    "* This function joins elements of a sequence and makes it a string.\n",
    "##### Syntax: string_name.join(iterable)\n",
    "\n",
    "##### Parameters:\n",
    "\n",
    "* Iterable – objects capable of returning their members one at a time. Some examples are List, Tuple, String, Dictionary, and Set\n"
   ]
  },
  {
   "cell_type": "code",
   "execution_count": 362,
   "id": "2cb5031e",
   "metadata": {},
   "outputs": [
    {
     "name": "stdout",
     "output_type": "stream",
     "text": [
      "gajularamaram\n"
     ]
    },
    {
     "data": {
      "text/plain": [
       "'g&a&j&u&l&a&r&a&m&a&r&a&m'"
      ]
     },
     "execution_count": 362,
     "metadata": {},
     "output_type": "execute_result"
    }
   ],
   "source": [
    "print(name)\n",
    "'&'.join(name)"
   ]
  },
  {
   "cell_type": "markdown",
   "id": "e0f2aa7f",
   "metadata": {},
   "source": [
    "## 28. isupper():\n",
    "\n",
    "* isupper() method returns whether all characters in a string are uppercase or not.\n",
    "##### Syntax: string.isupper()\n",
    "\n",
    "##### Returns:\n",
    "\n",
    "* True if all the letters in the string are in the upper case and False if even one of them is in the lower case.\n"
   ]
  },
  {
   "cell_type": "code",
   "execution_count": 363,
   "id": "aa400fbd",
   "metadata": {},
   "outputs": [
    {
     "data": {
      "text/plain": [
       "True"
      ]
     },
     "execution_count": 363,
     "metadata": {},
     "output_type": "execute_result"
    }
   ],
   "source": [
    "'SOWJI!@#'.isupper()"
   ]
  },
  {
   "cell_type": "code",
   "execution_count": 364,
   "id": "f76e9898",
   "metadata": {},
   "outputs": [
    {
     "data": {
      "text/plain": [
       "False"
      ]
     },
     "execution_count": 364,
     "metadata": {},
     "output_type": "execute_result"
    }
   ],
   "source": [
    "'Sowji!@#'.isupper()"
   ]
  },
  {
   "cell_type": "markdown",
   "id": "b2117a2c",
   "metadata": {},
   "source": [
    "## 29. islower():\n",
    "* isupper() method returns whether all characters in a string are uppercase or not.\n",
    "###### Syntax: string.isupper()\n",
    "\n",
    "###### Returns:\n",
    "* True if all the letters in the string are in the upper case and False if even one of them is in the lower case.\n"
   ]
  },
  {
   "cell_type": "code",
   "execution_count": 365,
   "id": "a83e7134",
   "metadata": {},
   "outputs": [
    {
     "data": {
      "text/plain": [
       "True"
      ]
     },
     "execution_count": 365,
     "metadata": {},
     "output_type": "execute_result"
    }
   ],
   "source": [
    "'sowji*&^'.islower()"
   ]
  },
  {
   "cell_type": "code",
   "execution_count": 366,
   "id": "be4010b3",
   "metadata": {},
   "outputs": [
    {
     "data": {
      "text/plain": [
       "False"
      ]
     },
     "execution_count": 366,
     "metadata": {},
     "output_type": "execute_result"
    }
   ],
   "source": [
    "'SOWJI)(*&^)'.islower()"
   ]
  },
  {
   "cell_type": "markdown",
   "id": "580e0335",
   "metadata": {},
   "source": [
    "## 30. startswith():\n",
    "\n",
    "* startswith() method returns True if a string starts with the specified prefix (string). If not, it returns False using Python.\n",
    "   #####  Syntax: str.startswith(prefix, start, end)\n",
    "\n",
    "##### Parameters:\n",
    "\n",
    "*   prefix: prefix ix nothing but a string that needs to be checked.\n",
    "*  start: Starting position where prefix is needed to be checked within the string.\n",
    "* end: Ending position where prefix is needed to be checked within the string.\n"
   ]
  },
  {
   "cell_type": "code",
   "execution_count": 367,
   "id": "32f1aac9",
   "metadata": {},
   "outputs": [
    {
     "data": {
      "text/plain": [
       "False"
      ]
     },
     "execution_count": 367,
     "metadata": {},
     "output_type": "execute_result"
    }
   ],
   "source": [
    "'2002Sowjanya'.startswith('Sowjanya')"
   ]
  },
  {
   "cell_type": "code",
   "execution_count": 368,
   "id": "5a552810",
   "metadata": {},
   "outputs": [
    {
     "data": {
      "text/plain": [
       "True"
      ]
     },
     "execution_count": 368,
     "metadata": {},
     "output_type": "execute_result"
    }
   ],
   "source": [
    "'2002Sowjanya'.startswith('2002')"
   ]
  },
  {
   "cell_type": "markdown",
   "id": "5dcb5578",
   "metadata": {},
   "source": [
    "## 31 endswith() :\n",
    "\n",
    "* endswith() method returns True if a string ends with the given suffix, otherwise returns False.\n",
    "\n",
    "##### Syntax: str.endswith(suffix, start, end)\n",
    "\n",
    "##### Parameters:\n",
    "\n",
    "    suffix: Suffix is nothing but a string that needs to be checked.\n",
    "    start: Starting position from where suffix is needed to be checked within the string.\n",
    "    end: Ending position + 1 from where suffix is needed to be checked within the string.\n",
    "\n"
   ]
  },
  {
   "cell_type": "code",
   "execution_count": 369,
   "id": "33692b2c",
   "metadata": {},
   "outputs": [
    {
     "data": {
      "text/plain": [
       "True"
      ]
     },
     "execution_count": 369,
     "metadata": {},
     "output_type": "execute_result"
    }
   ],
   "source": [
    "'2002Sowjanya'.endswith('Sowjanya')"
   ]
  },
  {
   "cell_type": "code",
   "execution_count": 370,
   "id": "996772ee",
   "metadata": {},
   "outputs": [
    {
     "data": {
      "text/plain": [
       "False"
      ]
     },
     "execution_count": 370,
     "metadata": {},
     "output_type": "execute_result"
    }
   ],
   "source": [
    "'2002Sowjanya'.endswith('2002')"
   ]
  },
  {
   "cell_type": "markdown",
   "id": "bafb0667",
   "metadata": {},
   "source": [
    "## 32. encode() :\n",
    "\n",
    "* encode() converts a string value into a collection of bytes, using an encoding scheme specified by the user\n",
    "   ###### Syntax: encode(encoding, errors)\n",
    "\n",
    "###### Parameters:\n",
    "\n",
    " * encoding: Specifies the encoding on the basis of which encoding has to be performed.\n",
    "  * errors: Decides how to handle the errors if they occur, e.g ‘strict’ raises Unicode error in case of exception and ‘ignore’ ignores the errors that occurred. There are six types of error response\n",
    "  * strict – default response which raises a UnicodeDecodeError exception on failure\n",
    "  * ignore – ignores the unencodable unicode from the result\n",
    "  * replace – replaces the unencodable unicode to a question mark ?\n",
    "  * xmlcharrefreplace – inserts XML character reference instead of unencodable unicode\n",
    "  * backslashreplace – inserts a \\uNNNN escape sequence instead of unencodable unicode\n",
    "  * namereplace – inserts a \\N{…} escape sequence instead of unencodable unicode\n"
   ]
  },
  {
   "cell_type": "code",
   "execution_count": 371,
   "id": "e97965f0",
   "metadata": {},
   "outputs": [
    {
     "name": "stdout",
     "output_type": "stream",
     "text": [
      "Welcome\n",
      "The encoded version is: b'Welcome'\n"
     ]
    }
   ],
   "source": [
    "m = 'Welcome'\n",
    "print(m)\n",
    "# default encoding to utf-8\n",
    "m_utf = m.encode()# unicode string\n",
    "print('The encoded version is:', m_utf)"
   ]
  },
  {
   "cell_type": "markdown",
   "id": "7d8dea41",
   "metadata": {},
   "source": [
    "## 33. format_map()\n",
    "\n",
    " * format_map() method is an inbuilt function , which is used to return a dictionary key’s value.\n",
    "###### Syntax: string.format_map(z)\n",
    "\n",
    "###### Parameters:\n",
    "\n",
    "* Here z is a variable in which the input dictionary is stored and string is the key of the input dictionary.\n",
    "* input_dict: Takes a single parameter which is the input dictionary.\n"
   ]
  },
  {
   "cell_type": "code",
   "execution_count": 372,
   "id": "fcde374c",
   "metadata": {},
   "outputs": [
    {
     "name": "stdout",
     "output_type": "stream",
     "text": [
      "Data's last name is Science\n"
     ]
    }
   ],
   "source": [
    "# input stored in variable a. \n",
    "a = {'q':'Data', 'r':'Science'} \n",
    "print(\"{q}'s last name is {r}\".format_map(a))"
   ]
  },
  {
   "cell_type": "markdown",
   "id": "08532c66",
   "metadata": {},
   "source": [
    "## 34. isdecimal()\n",
    "\n",
    "* isdecimal() function returns true if all characters in a string are decimal, else it returns False.\n",
    "* Syntax: string_name.isdecimal(), string_name is the string whose characters are to be checked\n",
    "\n",
    "##### Parameters:\n",
    "\n",
    "* This method does not takes any parameters .\n"
   ]
  },
  {
   "cell_type": "code",
   "execution_count": 373,
   "id": "556f9e05",
   "metadata": {},
   "outputs": [
    {
     "data": {
      "text/plain": [
       "False"
      ]
     },
     "execution_count": 373,
     "metadata": {},
     "output_type": "execute_result"
    }
   ],
   "source": [
    "'data'.isdecimal()"
   ]
  },
  {
   "cell_type": "code",
   "execution_count": 374,
   "id": "8fb756ec",
   "metadata": {},
   "outputs": [
    {
     "data": {
      "text/plain": [
       "False"
      ]
     },
     "execution_count": 374,
     "metadata": {},
     "output_type": "execute_result"
    }
   ],
   "source": [
    "'109747.849300'.isdecimal()"
   ]
  },
  {
   "cell_type": "code",
   "execution_count": 375,
   "id": "85d6a977",
   "metadata": {},
   "outputs": [
    {
     "data": {
      "text/plain": [
       "True"
      ]
     },
     "execution_count": 375,
     "metadata": {},
     "output_type": "execute_result"
    }
   ],
   "source": [
    "'10'.isdecimal()"
   ]
  },
  {
   "cell_type": "markdown",
   "id": "7ec4f47a",
   "metadata": {},
   "source": [
    "## 35. isdigit()\n",
    "\n",
    " * isdigit() method returns “True” if all characters in the string are digits, Otherwise, It returns “False”.\n",
    "##### Syntax: string.isdigit()\n",
    "\n",
    "###### Parameters:\n",
    "\n",
    " * isdigit() does not take any parameters\n"
   ]
  },
  {
   "cell_type": "code",
   "execution_count": 376,
   "id": "fe66dd38",
   "metadata": {},
   "outputs": [
    {
     "data": {
      "text/plain": [
       "True"
      ]
     },
     "execution_count": 376,
     "metadata": {},
     "output_type": "execute_result"
    }
   ],
   "source": [
    "'1000'.isdigit()"
   ]
  },
  {
   "cell_type": "code",
   "execution_count": 377,
   "id": "c167d6ae",
   "metadata": {},
   "outputs": [
    {
     "data": {
      "text/plain": [
       "False"
      ]
     },
     "execution_count": 377,
     "metadata": {},
     "output_type": "execute_result"
    }
   ],
   "source": [
    "\"Parvathi\".isdigit()"
   ]
  },
  {
   "cell_type": "code",
   "execution_count": 378,
   "id": "850f5a05",
   "metadata": {},
   "outputs": [
    {
     "data": {
      "text/plain": [
       "False"
      ]
     },
     "execution_count": 378,
     "metadata": {},
     "output_type": "execute_result"
    }
   ],
   "source": [
    "\"10.979\".isdigit()"
   ]
  },
  {
   "cell_type": "markdown",
   "id": "dddfd818",
   "metadata": {},
   "source": [
    "## 36. isidentifier()\n",
    "\n",
    "* isidentifier() method is used to check whether a string is a valid identifier or not.\n",
    "* The method returns True if the string is a valid identifier, else returns False.\n",
    "* Syntax: string.isidentifier()\n",
    "\n",
    "##### Parameters:\n",
    "\n",
    "   * The method does not take any parameters\n"
   ]
  },
  {
   "cell_type": "code",
   "execution_count": 379,
   "id": "12f049c8",
   "metadata": {},
   "outputs": [
    {
     "data": {
      "text/plain": [
       "True"
      ]
     },
     "execution_count": 379,
     "metadata": {},
     "output_type": "execute_result"
    }
   ],
   "source": [
    "example = \"batch_261\"\n",
    "example.isidentifier()"
   ]
  },
  {
   "cell_type": "markdown",
   "id": "c4c49ae7",
   "metadata": {},
   "source": [
    "## 37 . isnumeric()\n",
    "\n",
    "* isnumeric() method is used to determine whether the string consists of numeric characters or not.\n",
    "*  It returns a Boolean value.\n",
    "* If all characters in the string are numeric and it is not empty, it returns “True”\n",
    "* If all characters in the string are numeric characters, otherwise returns “False”.\n",
    " ###### Syntax: string.isnumeric()\n",
    "\n",
    "##### Parameter\n",
    "\n",
    "* isnumeric() does not take any parameters\n"
   ]
  },
  {
   "cell_type": "code",
   "execution_count": 380,
   "id": "7f4b87a7",
   "metadata": {},
   "outputs": [
    {
     "data": {
      "text/plain": [
       "False"
      ]
     },
     "execution_count": 380,
     "metadata": {},
     "output_type": "execute_result"
    }
   ],
   "source": [
    "\"1234numbers\".isnumeric()"
   ]
  },
  {
   "cell_type": "code",
   "execution_count": 381,
   "id": "0f342936",
   "metadata": {},
   "outputs": [
    {
     "data": {
      "text/plain": [
       "True"
      ]
     },
     "execution_count": 381,
     "metadata": {},
     "output_type": "execute_result"
    }
   ],
   "source": [
    "\"9392\".isnumeric()"
   ]
  },
  {
   "cell_type": "markdown",
   "id": "3ec52f73",
   "metadata": {},
   "source": [
    "## 38. isprintable()\n",
    "\n",
    "* isprintable() is a built-in method used for string handling.\n",
    "* The isprintable() method returns “True” if all characters in the string are printable or the string is empty,\n",
    "    Otherwise, It returns “False”.\n",
    "* This function is used to check if the argument contains any printable characters such as:\n",
    "* Digits ( 0123456789 )\n",
    "* Uppercase letters ( ABCDEFGHIJKLMNOPQRSTUVWXYZ )\n",
    "* Lowercase letters ( abcdefghijklmnopqrstuvwxyz )\n",
    "* Punctuation characters ( !”#%&'()*+, -./:;?@[]^_`{ | }~ ).\n",
    "* Space ( )\n",
    "\n",
    "##### Syntax: string.isprintable()\n",
    "\n",
    "Parameters:\n",
    "* isprintable() does not take any parameters\n"
   ]
  },
  {
   "cell_type": "code",
   "execution_count": 382,
   "id": "2fd63991",
   "metadata": {},
   "outputs": [
    {
     "data": {
      "text/plain": [
       "True"
      ]
     },
     "execution_count": 382,
     "metadata": {},
     "output_type": "execute_result"
    }
   ],
   "source": [
    "t =\"     \"\n",
    "t.isprintable()"
   ]
  },
  {
   "cell_type": "code",
   "execution_count": 383,
   "id": "4782f854",
   "metadata": {},
   "outputs": [
    {
     "data": {
      "text/plain": [
       "False"
      ]
     },
     "execution_count": 383,
     "metadata": {},
     "output_type": "execute_result"
    }
   ],
   "source": [
    "t= \"welcome\\toinnomatics\"\n",
    "t.isprintable()"
   ]
  },
  {
   "cell_type": "markdown",
   "id": "74f6ed2d",
   "metadata": {},
   "source": [
    "## 39. isspace()\n",
    "\n",
    "* isspace() method returns “True” if all characters in the string are whitespace characters,\n",
    "* Otherwise, It returns “False”. This function is used to check if the argument contains all whitespace characters, such as:\n",
    "   *  ‘ ‘ – Space\n",
    "    * ‘\\t’ – Horizontal tab\n",
    "    * ‘\\n’ – Newline\n",
    "    * ‘\\v’ – Vertical tab\n",
    "    * ‘\\f’ – Feed\n",
    "    * ‘\\r’ – Carriage return\n",
    " #####  Syntax: string.isspace()\n",
    "\n",
    "##### Returns:\n",
    "\n",
    "    True – If all characters in the string are whitespace characters.\n",
    "    False – If the string contains 1 or more non-whitespace characters.\n"
   ]
  },
  {
   "cell_type": "code",
   "execution_count": 384,
   "id": "d2f6a2e2",
   "metadata": {},
   "outputs": [
    {
     "data": {
      "text/plain": [
       "True"
      ]
     },
     "execution_count": 384,
     "metadata": {},
     "output_type": "execute_result"
    }
   ],
   "source": [
    "z=\" \"\n",
    "z.isspace()"
   ]
  },
  {
   "cell_type": "code",
   "execution_count": 385,
   "id": "6bb0b686",
   "metadata": {},
   "outputs": [
    {
     "data": {
      "text/plain": [
       "False"
      ]
     },
     "execution_count": 385,
     "metadata": {},
     "output_type": "execute_result"
    }
   ],
   "source": [
    "z=\"Avugaddi Sowjanya\"\n",
    "z.isspace()"
   ]
  },
  {
   "cell_type": "markdown",
   "id": "0b4589ca",
   "metadata": {},
   "source": [
    "## 40.  istittle()\n",
    "\n",
    "* istitle() Method is a built-in string function that returns True if all the words in the string are title cased, otherwise returns False.\n",
    "* Syntax: string.istitle()\n",
    "\n",
    "##### Returns:\n",
    "\n",
    "    True if the string is a title-cased string otherwise returns False.\n"
   ]
  },
  {
   "cell_type": "code",
   "execution_count": 386,
   "id": "724e7be1",
   "metadata": {},
   "outputs": [
    {
     "data": {
      "text/plain": [
       "'Avugaddi Sowjanya'"
      ]
     },
     "execution_count": 386,
     "metadata": {},
     "output_type": "execute_result"
    }
   ],
   "source": [
    "z"
   ]
  },
  {
   "cell_type": "code",
   "execution_count": 387,
   "id": "a279776e",
   "metadata": {},
   "outputs": [
    {
     "data": {
      "text/plain": [
       "True"
      ]
     },
     "execution_count": 387,
     "metadata": {},
     "output_type": "execute_result"
    }
   ],
   "source": [
    "z.istitle()"
   ]
  },
  {
   "cell_type": "code",
   "execution_count": 388,
   "id": "eaf6928d",
   "metadata": {},
   "outputs": [
    {
     "data": {
      "text/plain": [
       "False"
      ]
     },
     "execution_count": 388,
     "metadata": {},
     "output_type": "execute_result"
    }
   ],
   "source": [
    "z =  '    title'\n",
    "z.istitle()"
   ]
  },
  {
   "cell_type": "code",
   "execution_count": null,
   "id": "eb4e49b6",
   "metadata": {},
   "outputs": [],
   "source": []
  }
 ],
 "metadata": {
  "kernelspec": {
   "display_name": "Python 3 (ipykernel)",
   "language": "python",
   "name": "python3"
  },
  "language_info": {
   "codemirror_mode": {
    "name": "ipython",
    "version": 3
   },
   "file_extension": ".py",
   "mimetype": "text/x-python",
   "name": "python",
   "nbconvert_exporter": "python",
   "pygments_lexer": "ipython3",
   "version": "3.11.5"
  }
 },
 "nbformat": 4,
 "nbformat_minor": 5
}
