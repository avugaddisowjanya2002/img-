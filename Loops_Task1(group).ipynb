{
 "cells": [
  {
   "cell_type": "markdown",
   "id": "0c52dba0",
   "metadata": {},
   "source": [
    "## Solve the problem using while loop and for loop"
   ]
  },
  {
   "cell_type": "markdown",
   "id": "67120bb7",
   "metadata": {},
   "source": [
    "## 1. Return Only the Integer :\n",
    "* Write a function that takes a list of elements and returns only the integers.\n",
    "\n",
    "##### Examples\n",
    "* return_only_integer([9, 2, \"space\", \"car\", \"lion\", 16]) ➞ [9, 2, 16]\n",
    "\n",
    "* return_only_integer([\"hello\", 81, \"basketball\", 123, \"fox\"]) ➞ [81, 123]\n",
    "\n",
    "* return_only_integer([10, \"121\", 56, 20, \"car\", 3, \"lion\"]) ➞ [10, 56, 20, 3]\n",
    "\n",
    "* return_only_integer([\"String\",  True,  3.3,  1]) ➞ [1]"
   ]
  },
  {
   "cell_type": "code",
   "execution_count": 21,
   "id": "3b1ec4b6",
   "metadata": {},
   "outputs": [
    {
     "name": "stdout",
     "output_type": "stream",
     "text": [
      "Enter how many inputs you want to give: 6\n",
      "Enter the elements:kfjd\n",
      "Enter the elements:584\n",
      "Enter the elements:kfnjdj\n",
      "Enter the elements:-654882\n",
      "Enter the elements:cnndskjcsj54589632\n",
      "Enter the elements:-e555fmhhg\n",
      "['584']\n"
     ]
    }
   ],
   "source": [
    "#### USING FOR LOOP\n",
    "n=int(input(\"Enter how many inputs you want to give: \"))\n",
    "l=[]\n",
    "for i in range(n):\n",
    "    elements = input(\"Enter the elements:\")\n",
    "    l.append(elements)\n",
    "x=[]\n",
    "for i in l:\n",
    "    if i.isdigit():\n",
    "        x.append(i)\n",
    "print(x)\n",
    "    \n",
    "\n",
    "    "
   ]
  },
  {
   "cell_type": "code",
   "execution_count": null,
   "id": "f6c71694",
   "metadata": {},
   "outputs": [],
   "source": []
  },
  {
   "cell_type": "markdown",
   "id": "63dae5f5",
   "metadata": {},
   "source": [
    "### 2. Is the Word an Isogram?\n",
    "* An isogram is a word that has no duplicate letters. Create a function that takes a string and returns either True or False depending on whether or not it's an \"isogram\".\n",
    "\n",
    "##### Examples\n",
    "* is_isogram(\"Algorism\") ➞ True\n",
    "\n",
    "* is_isogram(\"PasSword\") ➞ False\n",
    "##### Not case sensitive.\n",
    "\n",
    "* is_isogram(\"Consecutive\") ➞ False"
   ]
  },
  {
   "cell_type": "code",
   "execution_count": 35,
   "id": "475abebe",
   "metadata": {},
   "outputs": [
    {
     "name": "stdout",
     "output_type": "stream",
     "text": [
      "Enter how many inputs you want to give: sowji\n",
      "True\n"
     ]
    }
   ],
   "source": [
    "n=(input(\"Enter how many inputs you want to give: \"))\n",
    "s=set()\n",
    "isogram = True\n",
    "for i in n:\n",
    "    if i in s:\n",
    "        isogram = False\n",
    "    s.add(i)\n",
    "print(isogram)"
   ]
  },
  {
   "cell_type": "markdown",
   "id": "fb800433",
   "metadata": {},
   "source": [
    "## 3. Transform into a List with No Duplicates\n",
    "* A set is a collection of unique items. A set can be formed from a list by removing all duplicate items.\n",
    "   [1, 3, 3, 5, 5, 5]\n",
    "#### original list\n",
    "    [1, 3, 5]\n",
    "#### original list transformed into a set\n",
    "* Create a function that sorts a list and removes all duplicate items from it.\n",
    "\n",
    "###### Examples\n",
    "        setify([1, 3, 3, 5, 5]) ➞ [1, 3, 5]\n",
    "\n",
    "        setify([4, 4, 4, 4]) ➞ [4]\n",
    "\n",
    "        setify([5, 7, 8, 9, 10, 15]) ➞ [5, 7, 8, 9, 10, 15]\n",
    "\n",
    "        setify([3, 3, 3, 2, 1]) ➞ [1, 2, 3]"
   ]
  },
  {
   "cell_type": "code",
   "execution_count": 2,
   "id": "d6c7308c",
   "metadata": {},
   "outputs": [
    {
     "name": "stdout",
     "output_type": "stream",
     "text": [
      "Enter no. of elements you want in set : 5\n",
      "Enter the elements : 2\n",
      "Enter the elements : 3\n",
      "Enter the elements : 2\n",
      "Enter the elements : 1\n",
      "Enter the elements : 0\n",
      "[0, 1, 2, 3]\n"
     ]
    }
   ],
   "source": [
    "x = int(input(\"Enter no. of elements you want in set : \"))\n",
    "s=set()\n",
    "for i in range(x):\n",
    "    y=int(input(\"Enter the elements : \"))\n",
    "    s.add(y)\n",
    "print(list(s))\n",
    "    "
   ]
  },
  {
   "cell_type": "code",
   "execution_count": null,
   "id": "5885adca",
   "metadata": {},
   "outputs": [],
   "source": []
  },
  {
   "cell_type": "code",
   "execution_count": null,
   "id": "51bd9685",
   "metadata": {},
   "outputs": [],
   "source": []
  },
  {
   "cell_type": "markdown",
   "id": "af74fa38",
   "metadata": {},
   "source": [
    "## 4.Purge and Organize\n",
    "    Given a list of numbers, write a function that returns a list that...\n",
    "\n",
    "    Has all duplicate elements removed.\n",
    "    Is sorted from least to greatest value.\n",
    "###### Examples\n",
    "    unique_sort([1, 2, 4, 3]) ➞ [1, 2, 3, 4]\n",
    "\n",
    "    unique_sort([1, 4, 4, 4, 4, 4, 3, 2, 1, 2]) ➞ [1, 2, 3, 4]\n",
    "\n",
    "    unique_sort([6, 7, 3, 2, 1]) ➞ [1, 2, 3, 6, 7]"
   ]
  },
  {
   "cell_type": "code",
   "execution_count": 125,
   "id": "4f14b1ad",
   "metadata": {},
   "outputs": [
    {
     "name": "stdout",
     "output_type": "stream",
     "text": [
      "Enter how many numbers you want in a list : 10\n",
      "Enter the elements : 0\n",
      "Enter the elements : 9\n",
      "Enter the elements : 3\n",
      "Enter the elements : 4\n",
      "Enter the elements : 6\n",
      "Enter the elements : 6\n",
      "Enter the elements : 7\n",
      "Enter the elements : 9\n",
      "Enter the elements : 0\n",
      "Enter the elements : 5\n",
      "['0', '3', '4', '6', '7', '9']\n"
     ]
    }
   ],
   "source": [
    "x = int(input(\"Enter how many numbers you want in a list : \") )\n",
    "l =[]\n",
    "for i in range(x):\n",
    "    y = input(\"Enter the elements : \")\n",
    "    sorted_list=sorted(set(l))\n",
    "    l.append(y)\n",
    "print(sorted_list)"
   ]
  },
  {
   "cell_type": "markdown",
   "id": "9b9e8abf",
   "metadata": {},
   "source": []
  },
  {
   "cell_type": "code",
   "execution_count": null,
   "id": "f0e083a4",
   "metadata": {},
   "outputs": [],
   "source": []
  },
  {
   "cell_type": "code",
   "execution_count": null,
   "id": "9ad1839b",
   "metadata": {},
   "outputs": [],
   "source": []
  },
  {
   "cell_type": "markdown",
   "id": "1ceb1338",
   "metadata": {},
   "source": [
    "## 5. Get Student Names\n",
    "   Create a function that takes a dictionary of student names and returns a list of student names in alphabetical order.\n",
    "\n",
    "###### Examples\n",
    "        get_student_names({\n",
    "        \"Student 1\" : \"Steve\",\n",
    "        \"Student 2\" : \"Becky\",\n",
    "        \"Student 3\" : \"John\"})\n",
    "➞ [\"Becky\", \"John\", \"Steve\"]"
   ]
  },
  {
   "cell_type": "code",
   "execution_count": 135,
   "id": "153ccd1c",
   "metadata": {},
   "outputs": [
    {
     "name": "stdout",
     "output_type": "stream",
     "text": [
      "['Steve', 'Becky', 'John']\n"
     ]
    }
   ],
   "source": [
    "dictionary = {\"Student 1\" : \"Steve\",\"Student 2\" : \"Becky\",\"Student 3\" : \"John\"}\n",
    "l=[]\n",
    "for i in dictionary.values():\n",
    "    l.append(i)\n",
    "print(l)\n",
    "    \n",
    "    \n"
   ]
  },
  {
   "cell_type": "code",
   "execution_count": null,
   "id": "2672dcd9",
   "metadata": {},
   "outputs": [],
   "source": []
  },
  {
   "cell_type": "code",
   "execution_count": null,
   "id": "ead57de8",
   "metadata": {},
   "outputs": [],
   "source": []
  },
  {
   "cell_type": "markdown",
   "id": "1b4042a2",
   "metadata": {},
   "source": [
    "## 6. Say Hello to Guests\n",
    "    In this exercise you will have to:\n",
    "\n",
    "    Take a list of names.\n",
    "    Add \"Hello\" to every name.\n",
    "        Make one big string with all greetings.\n",
    "    The solution should be one string with a comma in between every \"Hello (Name)\".\n",
    "\n",
    "##### Examples\n",
    "    greet_people([\"Joe\"]) ➞ \"Hello Joe\"\n",
    "\n",
    "    greet_people([\"Angela\", \"Joe\"]) ➞ \"Hello Angela, Hello Joe\"\n",
    "\n",
    "    greet_people([\"Frank\", \"Angela\", \"Joe\"]) ➞ \"Hello Frank, Hello Angela, Hello Joe\""
   ]
  },
  {
   "cell_type": "code",
   "execution_count": 223,
   "id": "ad096df6",
   "metadata": {},
   "outputs": [
    {
     "name": "stdout",
     "output_type": "stream",
     "text": [
      "hello Frank, hello Angela, hello Joe\n"
     ]
    }
   ],
   "source": [
    "names = [\"Frank\", \"Angela\", \"Joe\"]\n",
    "l=[]\n",
    "for name in names:\n",
    "    l.append(f'hello {name}')\n",
    "greetings=\", \".join(l)\n",
    "print(greetings)\n",
    "    "
   ]
  },
  {
   "cell_type": "code",
   "execution_count": null,
   "id": "60265f4f",
   "metadata": {},
   "outputs": [],
   "source": []
  },
  {
   "cell_type": "code",
   "execution_count": null,
   "id": "575eba16",
   "metadata": {},
   "outputs": [],
   "source": []
  },
  {
   "cell_type": "markdown",
   "id": "392c3744",
   "metadata": {},
   "source": [
    "## 7.Find the Mean of All Digits\n",
    "    Create a function that returns the mean of all digits.\n",
    "\n",
    "###### Examples\n",
    "    mean(42) ➞ 3\n",
    "\n",
    "    mean(12345) ➞ 3\n",
    "\n",
    "    mean(666) ➞ 6"
   ]
  },
  {
   "cell_type": "code",
   "execution_count": 1,
   "id": "d63117bb",
   "metadata": {},
   "outputs": [
    {
     "name": "stdout",
     "output_type": "stream",
     "text": [
      "Enter a number :12345\n",
      "3.0\n"
     ]
    }
   ],
   "source": [
    "num = int(input(\"Enter a number :\"))\n",
    "s=0\n",
    "dig=0\n",
    "\n",
    "while(num>0):\n",
    "    dig+=1\n",
    "    m=num%10   \n",
    "    s=s+m\n",
    "    num=num//10\n",
    "print(s/dig)\n",
    "    "
   ]
  },
  {
   "cell_type": "code",
   "execution_count": null,
   "id": "cbab73ed",
   "metadata": {},
   "outputs": [],
   "source": []
  },
  {
   "cell_type": "code",
   "execution_count": null,
   "id": "c9103b69",
   "metadata": {},
   "outputs": [],
   "source": []
  },
  {
   "cell_type": "code",
   "execution_count": null,
   "id": "a739326d",
   "metadata": {},
   "outputs": [],
   "source": []
  },
  {
   "cell_type": "markdown",
   "id": "c7d6becf",
   "metadata": {},
   "source": [
    "## 8. Typing Game :\n",
    "    You're in the midst of creating a typing game.\n",
    "\n",
    "    Create a function that takes in two lists: the list of user-typed words, and the list of correctly-typed words and outputs a list containing 1s (correctly-typed words) and -1s (incorrectly-typed words).\n",
    "###### Inputs:\n",
    "    User-typed: [\"cat\", \"blue\", \"skt\", \"umbrells\", \"paddy\"]\n",
    "    Correct: [\"cat\", \"blue\", \"sky\", \"umbrella\", \"paddy\"]\n",
    "\n",
    "###### Output: [1, 1, -1, -1, 1]\n",
    "    correct_stream(\n",
    "      [\"it\", \"is\", \"find\"],\n",
    "      [\"it\", \"is\", \"fine\"])\n",
    "      ➞ [1, 1, -1]\n",
    "\n",
    "    correct_stream(\n",
    "    [\"april\", \"showrs\", \"bring\", \"may\", \"flowers\"],\n",
    "    [\"april\", \"showers\", \"bring\", \"may\", \"flowers\"]) \n",
    "    ➞ [1, -1, 1, 1, 1]"
   ]
  },
  {
   "cell_type": "code",
   "execution_count": 3,
   "id": "b82a1b31",
   "metadata": {},
   "outputs": [
    {
     "name": "stdout",
     "output_type": "stream",
     "text": [
      "[1, -1, 1, -1, -1]\n"
     ]
    }
   ],
   "source": [
    "usertyped=[\"april\",\"showrs\",\"bring\",\"aym\",\"flowrs\"]\n",
    "correct=[\"april\",\"showers\",\"bring\",\"may\",\"flowers\"]\n",
    "output=[]\n",
    "for i in range(0,5):\n",
    "    if usertyped[i]==correct[i]:\n",
    "        output.append(1)\n",
    "    else:\n",
    "        output.append(-1)\n",
    "print(output)"
   ]
  },
  {
   "cell_type": "markdown",
   "id": "2feb0bcc",
   "metadata": {},
   "source": [
    "## 9. True Ones, False Zeros\n",
    "* Create a function which returns a list of booleans, from a given number. Iterating through the number one digit at a time, append True if the digit is 1 and False if it is 0.\n",
    "\n",
    "##### Examples\n",
    "     integer_boolean(\"100101\") ➞ [True, False, False, True, False, True]\n",
    "\n",
    "    integer_boolean(\"10\") ➞ [True, False]\n",
    "\n",
    "    integer_boolean(\"001\") ➞ [False, False, True]\n",
    "###### Notes\n",
    "    Expect numbers with 0 and 1 only."
   ]
  },
  {
   "cell_type": "code",
   "execution_count": 34,
   "id": "59c115eb",
   "metadata": {},
   "outputs": [
    {
     "name": "stdout",
     "output_type": "stream",
     "text": [
      "Enter how many inputs you want to give :5\n",
      "Enter 0 or 1 :1\n",
      "Enter 0 or 1 :0\n",
      "Enter 0 or 1 :1\n",
      "Enter 0 or 1 :1\n",
      "Enter 0 or 1 :0\n",
      "['True', 'False', 'True', 'True', 'False']\n"
     ]
    }
   ],
   "source": [
    "### USING FOR LOOP\n",
    "n=int(input(\"Enter how many inputs you want to give :\")) #4\n",
    "li=[]\n",
    "for i in range(n):\n",
    "    bin=int(input(\"Enter 0 or 1 :\"))\n",
    "    m=bin%10\n",
    "    if m==1:\n",
    "        li.append(\"True\")\n",
    "    else:\n",
    "        li.append(\"False\")\n",
    "    n=n//10\n",
    "print(li)\n"
   ]
  },
  {
   "cell_type": "code",
   "execution_count": 33,
   "id": "61e3e08d",
   "metadata": {},
   "outputs": [
    {
     "name": "stdout",
     "output_type": "stream",
     "text": [
      "Enter a value either 0 or 1:10111001\n",
      "['True', 'False', 'True', 'True', 'True', 'False', 'False', 'True']\n"
     ]
    }
   ],
   "source": [
    "### USING WHILE LOOP\n",
    "n=int(input(\"Enter a value either 0 or 1:\"))\n",
    "li=[]\n",
    "while n>0:\n",
    "    m=n%10\n",
    "    if m==1:\n",
    "        li.append(\"True\")\n",
    "    else:\n",
    "        li.append(\"False\")\n",
    "    n=n//10\n",
    "li.reverse()\n",
    "print(li)"
   ]
  },
  {
   "cell_type": "markdown",
   "id": "23289104",
   "metadata": {},
   "source": []
  },
  {
   "cell_type": "code",
   "execution_count": null,
   "id": "97a99add",
   "metadata": {},
   "outputs": [],
   "source": []
  },
  {
   "cell_type": "code",
   "execution_count": null,
   "id": "ee56aa95",
   "metadata": {},
   "outputs": [],
   "source": []
  },
  {
   "cell_type": "code",
   "execution_count": null,
   "id": "fe5c691c",
   "metadata": {},
   "outputs": [],
   "source": []
  },
  {
   "cell_type": "code",
   "execution_count": null,
   "id": "fe521022",
   "metadata": {},
   "outputs": [],
   "source": []
  },
  {
   "cell_type": "code",
   "execution_count": null,
   "id": "095563ec",
   "metadata": {},
   "outputs": [],
   "source": []
  },
  {
   "cell_type": "code",
   "execution_count": null,
   "id": "df38eb5f",
   "metadata": {},
   "outputs": [],
   "source": []
  },
  {
   "cell_type": "code",
   "execution_count": null,
   "id": "6344a225",
   "metadata": {},
   "outputs": [],
   "source": []
  },
  {
   "cell_type": "code",
   "execution_count": null,
   "id": "49432de3",
   "metadata": {},
   "outputs": [],
   "source": []
  },
  {
   "cell_type": "code",
   "execution_count": null,
   "id": "534a3d15",
   "metadata": {},
   "outputs": [],
   "source": []
  },
  {
   "cell_type": "code",
   "execution_count": null,
   "id": "a33caadf",
   "metadata": {},
   "outputs": [],
   "source": []
  },
  {
   "cell_type": "code",
   "execution_count": null,
   "id": "26563fdc",
   "metadata": {},
   "outputs": [],
   "source": []
  },
  {
   "cell_type": "code",
   "execution_count": null,
   "id": "56af0576",
   "metadata": {},
   "outputs": [],
   "source": []
  },
  {
   "cell_type": "code",
   "execution_count": null,
   "id": "13f0a5c9",
   "metadata": {},
   "outputs": [],
   "source": []
  },
  {
   "cell_type": "code",
   "execution_count": null,
   "id": "f3e28e37",
   "metadata": {},
   "outputs": [],
   "source": []
  },
  {
   "cell_type": "code",
   "execution_count": null,
   "id": "2a9735e2",
   "metadata": {},
   "outputs": [],
   "source": []
  },
  {
   "cell_type": "code",
   "execution_count": null,
   "id": "8392f1be",
   "metadata": {},
   "outputs": [],
   "source": []
  },
  {
   "cell_type": "code",
   "execution_count": null,
   "id": "4002adc0",
   "metadata": {},
   "outputs": [],
   "source": []
  },
  {
   "cell_type": "code",
   "execution_count": null,
   "id": "0457e519",
   "metadata": {},
   "outputs": [],
   "source": []
  },
  {
   "cell_type": "code",
   "execution_count": null,
   "id": "18db5ed6",
   "metadata": {},
   "outputs": [],
   "source": []
  },
  {
   "cell_type": "code",
   "execution_count": null,
   "id": "b35d3416",
   "metadata": {},
   "outputs": [],
   "source": []
  },
  {
   "cell_type": "code",
   "execution_count": null,
   "id": "abd9ee59",
   "metadata": {},
   "outputs": [],
   "source": []
  },
  {
   "cell_type": "code",
   "execution_count": null,
   "id": "c2bf4cb0",
   "metadata": {},
   "outputs": [],
   "source": []
  },
  {
   "cell_type": "code",
   "execution_count": null,
   "id": "12999651",
   "metadata": {},
   "outputs": [],
   "source": []
  },
  {
   "cell_type": "code",
   "execution_count": null,
   "id": "453d58b3",
   "metadata": {},
   "outputs": [],
   "source": []
  },
  {
   "cell_type": "code",
   "execution_count": null,
   "id": "62864e7e",
   "metadata": {},
   "outputs": [],
   "source": []
  },
  {
   "cell_type": "code",
   "execution_count": null,
   "id": "3fb65028",
   "metadata": {},
   "outputs": [],
   "source": []
  },
  {
   "cell_type": "code",
   "execution_count": null,
   "id": "4bdf8345",
   "metadata": {},
   "outputs": [],
   "source": []
  },
  {
   "cell_type": "code",
   "execution_count": null,
   "id": "463312b3",
   "metadata": {},
   "outputs": [],
   "source": []
  },
  {
   "cell_type": "code",
   "execution_count": null,
   "id": "1bb3db19",
   "metadata": {},
   "outputs": [],
   "source": []
  },
  {
   "cell_type": "code",
   "execution_count": null,
   "id": "f1b77c81",
   "metadata": {},
   "outputs": [],
   "source": []
  },
  {
   "cell_type": "code",
   "execution_count": null,
   "id": "b3dbd0b3",
   "metadata": {},
   "outputs": [],
   "source": []
  },
  {
   "cell_type": "code",
   "execution_count": null,
   "id": "37532ba0",
   "metadata": {},
   "outputs": [],
   "source": []
  },
  {
   "cell_type": "code",
   "execution_count": null,
   "id": "3e6a4da3",
   "metadata": {},
   "outputs": [],
   "source": []
  },
  {
   "cell_type": "code",
   "execution_count": null,
   "id": "1c55b883",
   "metadata": {},
   "outputs": [],
   "source": []
  },
  {
   "cell_type": "code",
   "execution_count": null,
   "id": "81adca6d",
   "metadata": {},
   "outputs": [],
   "source": []
  },
  {
   "cell_type": "code",
   "execution_count": null,
   "id": "8b1b39ca",
   "metadata": {},
   "outputs": [],
   "source": []
  },
  {
   "cell_type": "code",
   "execution_count": null,
   "id": "0a7feda5",
   "metadata": {},
   "outputs": [],
   "source": []
  },
  {
   "cell_type": "code",
   "execution_count": null,
   "id": "3f941367",
   "metadata": {},
   "outputs": [],
   "source": []
  },
  {
   "cell_type": "code",
   "execution_count": null,
   "id": "891690b4",
   "metadata": {},
   "outputs": [],
   "source": []
  },
  {
   "cell_type": "code",
   "execution_count": null,
   "id": "7957ad2b",
   "metadata": {},
   "outputs": [],
   "source": []
  },
  {
   "cell_type": "code",
   "execution_count": null,
   "id": "ea160760",
   "metadata": {},
   "outputs": [],
   "source": []
  },
  {
   "cell_type": "code",
   "execution_count": null,
   "id": "39e1a768",
   "metadata": {},
   "outputs": [],
   "source": []
  },
  {
   "cell_type": "code",
   "execution_count": null,
   "id": "944f596f",
   "metadata": {},
   "outputs": [],
   "source": []
  },
  {
   "cell_type": "code",
   "execution_count": null,
   "id": "15d82a43",
   "metadata": {},
   "outputs": [],
   "source": []
  },
  {
   "cell_type": "code",
   "execution_count": null,
   "id": "1126c848",
   "metadata": {},
   "outputs": [],
   "source": []
  },
  {
   "cell_type": "code",
   "execution_count": null,
   "id": "a71eed89",
   "metadata": {},
   "outputs": [],
   "source": []
  },
  {
   "cell_type": "code",
   "execution_count": null,
   "id": "e519be66",
   "metadata": {},
   "outputs": [],
   "source": []
  },
  {
   "cell_type": "code",
   "execution_count": null,
   "id": "c7245760",
   "metadata": {},
   "outputs": [],
   "source": []
  },
  {
   "cell_type": "code",
   "execution_count": null,
   "id": "2253f681",
   "metadata": {},
   "outputs": [],
   "source": []
  },
  {
   "cell_type": "code",
   "execution_count": null,
   "id": "9711db3d",
   "metadata": {},
   "outputs": [],
   "source": []
  },
  {
   "cell_type": "code",
   "execution_count": null,
   "id": "bbc906ba",
   "metadata": {},
   "outputs": [],
   "source": []
  },
  {
   "cell_type": "code",
   "execution_count": null,
   "id": "4b804cc8",
   "metadata": {},
   "outputs": [],
   "source": []
  },
  {
   "cell_type": "code",
   "execution_count": null,
   "id": "b7e6874f",
   "metadata": {},
   "outputs": [],
   "source": []
  },
  {
   "cell_type": "code",
   "execution_count": null,
   "id": "ed7335e3",
   "metadata": {},
   "outputs": [],
   "source": []
  },
  {
   "cell_type": "code",
   "execution_count": null,
   "id": "400c9a80",
   "metadata": {},
   "outputs": [],
   "source": []
  },
  {
   "cell_type": "code",
   "execution_count": null,
   "id": "91d8ed80",
   "metadata": {},
   "outputs": [],
   "source": []
  },
  {
   "cell_type": "code",
   "execution_count": null,
   "id": "5337415d",
   "metadata": {},
   "outputs": [],
   "source": []
  },
  {
   "cell_type": "code",
   "execution_count": null,
   "id": "a320a083",
   "metadata": {},
   "outputs": [],
   "source": []
  },
  {
   "cell_type": "code",
   "execution_count": null,
   "id": "93dcb1cc",
   "metadata": {},
   "outputs": [],
   "source": []
  },
  {
   "cell_type": "code",
   "execution_count": null,
   "id": "69b1befa",
   "metadata": {},
   "outputs": [],
   "source": []
  },
  {
   "cell_type": "code",
   "execution_count": null,
   "id": "24addfef",
   "metadata": {},
   "outputs": [],
   "source": []
  },
  {
   "cell_type": "code",
   "execution_count": null,
   "id": "6a872f3a",
   "metadata": {},
   "outputs": [],
   "source": []
  },
  {
   "cell_type": "code",
   "execution_count": null,
   "id": "6ffb13df",
   "metadata": {},
   "outputs": [],
   "source": []
  },
  {
   "cell_type": "code",
   "execution_count": null,
   "id": "0111d491",
   "metadata": {},
   "outputs": [],
   "source": []
  },
  {
   "cell_type": "code",
   "execution_count": null,
   "id": "04ce48c1",
   "metadata": {},
   "outputs": [],
   "source": []
  },
  {
   "cell_type": "code",
   "execution_count": null,
   "id": "841ec160",
   "metadata": {},
   "outputs": [],
   "source": []
  }
 ],
 "metadata": {
  "kernelspec": {
   "display_name": "Python 3 (ipykernel)",
   "language": "python",
   "name": "python3"
  },
  "language_info": {
   "codemirror_mode": {
    "name": "ipython",
    "version": 3
   },
   "file_extension": ".py",
   "mimetype": "text/x-python",
   "name": "python",
   "nbconvert_exporter": "python",
   "pygments_lexer": "ipython3",
   "version": "3.11.5"
  }
 },
 "nbformat": 4,
 "nbformat_minor": 5
}
